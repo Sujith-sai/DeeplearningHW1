{
 "cells": [
  {
   "cell_type": "code",
   "execution_count": 5,
   "id": "5c832ae0",
   "metadata": {},
   "outputs": [],
   "source": [
    "import torch\n",
    "import torch.nn as nn\n",
    "import torch.nn.functional as F\n",
    "from torch.utils.data import DataLoader\n",
    "from torchvision import datasets, transforms\n",
    "from torchvision.utils import make_grid\n",
    "\n",
    "import numpy as np\n",
    "import pandas as pd\n",
    "import matplotlib.pyplot as plt\n",
    "%matplotlib inline"
   ]
  },
  {
   "cell_type": "code",
   "execution_count": 6,
   "id": "a6ad7301",
   "metadata": {},
   "outputs": [],
   "source": [
    "transform = transforms.ToTensor()"
   ]
  },
  {
   "cell_type": "code",
   "execution_count": 7,
   "id": "d5944b62",
   "metadata": {
    "scrolled": true
   },
   "outputs": [],
   "source": [
    "train_data_set = datasets.MNIST(root='//Users/saisujithmakkena/Desktop', train=True, download=True, transform=transform)\n",
    "test_data_set = datasets.MNIST(root='/Users/saisujithmakkena/Desktop', train=False, download=True, transform=transform)"
   ]
  },
  {
   "cell_type": "code",
   "execution_count": 8,
   "id": "de6bcc66",
   "metadata": {},
   "outputs": [
    {
     "data": {
      "text/plain": [
       "Dataset MNIST\n",
       "    Number of datapoints: 60000\n",
       "    Root location: //Users/saisujithmakkena/Desktop\n",
       "    Split: Train\n",
       "    StandardTransform\n",
       "Transform: ToTensor()"
      ]
     },
     "execution_count": 8,
     "metadata": {},
     "output_type": "execute_result"
    }
   ],
   "source": [
    "train_data_set"
   ]
  },
  {
   "cell_type": "code",
   "execution_count": 9,
   "id": "d9abfc1d",
   "metadata": {},
   "outputs": [
    {
     "data": {
      "text/plain": [
       "Dataset MNIST\n",
       "    Number of datapoints: 10000\n",
       "    Root location: /Users/saisujithmakkena/Desktop\n",
       "    Split: Test\n",
       "    StandardTransform\n",
       "Transform: ToTensor()"
      ]
     },
     "execution_count": 9,
     "metadata": {},
     "output_type": "execute_result"
    }
   ],
   "source": [
    "test_data_set"
   ]
  },
  {
   "cell_type": "code",
   "execution_count": 10,
   "id": "3ff2acb4",
   "metadata": {},
   "outputs": [],
   "source": [
    "batch_sizes = [5, 25, 125, 500, 1000]\n",
    "train_loader1 = DataLoader(train_data_set, batch_size=batch_sizes[0], shuffle=True)\n",
    "test_loader1 = DataLoader(test_data_set, batch_size=batch_sizes[0], shuffle=True)\n",
    "\n",
    "train_loader2 = DataLoader(train_data_set, batch_size=batch_sizes[1], shuffle=True)\n",
    "test_loader2 = DataLoader(test_data_set, batch_size=batch_sizes[1], shuffle=True)\n",
    "\n",
    "train_loader3 = DataLoader(train_data_set, batch_size=batch_sizes[2], shuffle=True)\n",
    "test_loader3 = DataLoader(test_data_set, batch_size=batch_sizes[2], shuffle=True)\n",
    "\n",
    "train_loader4 = DataLoader(train_data_set, batch_size=batch_sizes[3], shuffle=True)\n",
    "test_loader4 = DataLoader(test_data_set, batch_size=batch_sizes[3], shuffle=True)\n",
    "\n",
    "train_loader5 = DataLoader(train_data_set, batch_size=batch_sizes[4], shuffle=True)\n",
    "test_loader5 = DataLoader(test_data_set, batch_size=batch_sizes[4], shuffle=True)\n",
    "\n"
   ]
  },
  {
   "cell_type": "code",
   "execution_count": 11,
   "id": "930f6914",
   "metadata": {},
   "outputs": [],
   "source": [
    "# Calculating number of parameters in the class\n",
    "def CalcParams(model):\n",
    "    val = sum(params.numel() for params in model.parameters() if params.requires_grad)\n",
    "    return val"
   ]
  },
  {
   "cell_type": "code",
   "execution_count": 12,
   "id": "8fe34cee",
   "metadata": {},
   "outputs": [],
   "source": [
    "#Model1 with 16330 parameters\n",
    "class Model1(nn.Module):\n",
    "    def __init__(self, in_features=784, h1=20, h2=20, out_features=10):\n",
    "        super().__init__()\n",
    "        self.fc1 = nn.Linear(in_features,h1)    \n",
    "        self.fc2 = nn.Linear(h1, h2)\n",
    "        self.out = nn.Linear(h2, out_features)\n",
    "        \n",
    "        \n",
    "    def forward(self, x):\n",
    "        x = F.relu(self.fc1(x))\n",
    "        x = F.relu(self.fc2(x))\n",
    "        x = self.out(x)\n",
    "        return x"
   ]
  },
  {
   "cell_type": "code",
   "execution_count": 13,
   "id": "143f1096",
   "metadata": {},
   "outputs": [],
   "source": [
    "model1=Model1()"
   ]
  },
  {
   "cell_type": "code",
   "execution_count": 14,
   "id": "58f6031f",
   "metadata": {},
   "outputs": [
    {
     "data": {
      "text/plain": [
       "Model1(\n",
       "  (fc1): Linear(in_features=784, out_features=20, bias=True)\n",
       "  (fc2): Linear(in_features=20, out_features=20, bias=True)\n",
       "  (out): Linear(in_features=20, out_features=10, bias=True)\n",
       ")"
      ]
     },
     "execution_count": 14,
     "metadata": {},
     "output_type": "execute_result"
    }
   ],
   "source": [
    "model1"
   ]
  },
  {
   "cell_type": "code",
   "execution_count": 15,
   "id": "bb4e6540",
   "metadata": {},
   "outputs": [
    {
     "name": "stdout",
     "output_type": "stream",
     "text": [
      "16330\n"
     ]
    }
   ],
   "source": [
    "model1params=CalcParams(model1)\n",
    "print(model1params)"
   ]
  },
  {
   "cell_type": "code",
   "execution_count": 16,
   "id": "714f2955",
   "metadata": {},
   "outputs": [],
   "source": [
    "criterion1 = nn.CrossEntropyLoss()"
   ]
  },
  {
   "cell_type": "code",
   "execution_count": 17,
   "id": "a8bfa37b",
   "metadata": {},
   "outputs": [],
   "source": [
    "optimizer1 = torch.optim.Adam(model1.parameters(), lr=0.001)"
   ]
  },
  {
   "cell_type": "code",
   "execution_count": 18,
   "id": "6c211d6c",
   "metadata": {},
   "outputs": [],
   "source": [
    "epochs = 88\n",
    "train_correct_mod1 = []\n",
    "test_correct_mod1 = []\n",
    "for i in range(epochs):\n",
    "    train_corr = 0\n",
    "    test_corr = 0\n",
    "\n",
    "    # Run the training batches\n",
    "    for b, (X_train, y_train) in enumerate(train_loader1):\n",
    "       \n",
    "        y_pred = model1(X_train.view(5, -1))  \n",
    "        loss = criterion1(y_pred, y_train)\n",
    "\n",
    "        # Tally the number of correct predictions\n",
    "        predicted = torch.max(y_pred.data, 1)[1]\n",
    "        batch_corr = (predicted == y_train).sum()\n",
    "        train_corr += batch_corr\n",
    "        \n",
    "        # Update parameters\n",
    "        optimizer1.zero_grad()\n",
    "        loss.backward()\n",
    "        optimizer1.step()\n",
    "        \n",
    "    # Update train loss & accuracy for the epoch\n",
    "    train_losses_mod1=loss\n",
    "    train_correct_mod1.append(train_corr)\n",
    "        \n",
    "    # testing the batches\n",
    "    with torch.no_grad():\n",
    "        for b, (X_test, y_test) in enumerate(test_loader1):\n",
    "\n",
    "            # Apply the model\n",
    "            y_val = model1(X_test.view(5, -1)) \n",
    "\n",
    "            # Tally the number of correct predictions\n",
    "            predicted = torch.max(y_val.data, 1)[1] \n",
    "            test_corr += (predicted == y_test).sum()\n",
    "    \n",
    "    # Update test loss & accuracy for the epoch\n",
    "    loss = criterion1(y_val, y_test)\n",
    "    test_losses_mod1=(loss)\n",
    "    test_correct_mod1.append(test_corr)\n",
    "    \n",
    "        "
   ]
  },
  {
   "cell_type": "code",
   "execution_count": 19,
   "id": "5cf1bbbb",
   "metadata": {},
   "outputs": [],
   "source": [
    "train_losses_mod1= train_losses_mod1.detach().numpy()\n",
    "\n"
   ]
  },
  {
   "cell_type": "code",
   "execution_count": 20,
   "id": "c693794a",
   "metadata": {},
   "outputs": [
    {
     "name": "stdout",
     "output_type": "stream",
     "text": [
      "tensor(98.7417)\n"
     ]
    }
   ],
   "source": [
    " for t in train_correct_mod1:\n",
    "    trn_accu_mod1=t/600\n",
    "    \n",
    "print(trn_accu_mod1)"
   ]
  },
  {
   "cell_type": "code",
   "execution_count": 21,
   "id": "6df8deb9",
   "metadata": {},
   "outputs": [
    {
     "name": "stdout",
     "output_type": "stream",
     "text": [
      "tensor(95.3600)\n"
     ]
    }
   ],
   "source": [
    " for t in test_correct_mod1:\n",
    "    tst_accu_mod1=t/100\n",
    "    \n",
    "print(tst_accu_mod1)"
   ]
  },
  {
   "cell_type": "code",
   "execution_count": 22,
   "id": "780e0663",
   "metadata": {},
   "outputs": [],
   "source": [
    "# Calculate sensitivity of every model\n",
    "sensitivity_list = []\n",
    "\n",
    "# Model 1\n",
    "# Get gradient norm (From slides)\n",
    "grad_all = 0.0\n",
    "frob_norm_all = 0\n",
    "counter = 0\n",
    "for p in model1.parameters():\n",
    "    grad = 0.0\n",
    "    if p.grad is not None:\n",
    "        grad = p.grad\n",
    "        # Calculate Frobenius norm of gradients\n",
    "        frob_norm = torch.linalg.norm(grad).numpy()\n",
    "        frob_norm_all += frob_norm\n",
    "        counter += 1\n",
    "sensitivity_list.append(frob_norm_all / counter)\n"
   ]
  },
  {
   "cell_type": "code",
   "execution_count": null,
   "id": "81b5144b",
   "metadata": {},
   "outputs": [],
   "source": []
  },
  {
   "cell_type": "code",
   "execution_count": null,
   "id": "1536992c",
   "metadata": {},
   "outputs": [],
   "source": []
  },
  {
   "cell_type": "code",
   "execution_count": 23,
   "id": "b15b371f",
   "metadata": {},
   "outputs": [],
   "source": [
    "#######################################----------Model-2------------#####################################################################"
   ]
  },
  {
   "cell_type": "code",
   "execution_count": 24,
   "id": "690e0fdb",
   "metadata": {},
   "outputs": [],
   "source": [
    "#Model2 with 16330 parameters\n",
    "class Model2(nn.Module):\n",
    "    def __init__(self, in_features=784, h1=20, h2=20, out_features=10):\n",
    "        super().__init__()\n",
    "        self.fc1 = nn.Linear(in_features,h1)    \n",
    "        self.fc2 = nn.Linear(h1, h2)\n",
    "        self.out = nn.Linear(h2, out_features)\n",
    "        \n",
    "        \n",
    "    def forward(self, x):\n",
    "        x = F.relu(self.fc1(x))\n",
    "        x = F.relu(self.fc2(x))\n",
    "        x = self.out(x)\n",
    "        return x"
   ]
  },
  {
   "cell_type": "code",
   "execution_count": 25,
   "id": "4af3e8e8",
   "metadata": {},
   "outputs": [],
   "source": [
    "model2=Model2()"
   ]
  },
  {
   "cell_type": "code",
   "execution_count": 26,
   "id": "42f88175",
   "metadata": {},
   "outputs": [
    {
     "data": {
      "text/plain": [
       "Model2(\n",
       "  (fc1): Linear(in_features=784, out_features=20, bias=True)\n",
       "  (fc2): Linear(in_features=20, out_features=20, bias=True)\n",
       "  (out): Linear(in_features=20, out_features=10, bias=True)\n",
       ")"
      ]
     },
     "execution_count": 26,
     "metadata": {},
     "output_type": "execute_result"
    }
   ],
   "source": [
    "model2"
   ]
  },
  {
   "cell_type": "code",
   "execution_count": 27,
   "id": "9ebc995c",
   "metadata": {},
   "outputs": [
    {
     "name": "stdout",
     "output_type": "stream",
     "text": [
      "16330\n"
     ]
    }
   ],
   "source": [
    "model2params=CalcParams(model2)\n",
    "print(model2params)"
   ]
  },
  {
   "cell_type": "code",
   "execution_count": 28,
   "id": "82205127",
   "metadata": {},
   "outputs": [],
   "source": [
    "criterion2 = nn.CrossEntropyLoss()"
   ]
  },
  {
   "cell_type": "code",
   "execution_count": 29,
   "id": "a1953a41",
   "metadata": {},
   "outputs": [],
   "source": [
    "optimizer2 = torch.optim.Adam(model2.parameters(), lr=0.001)"
   ]
  },
  {
   "cell_type": "code",
   "execution_count": 30,
   "id": "d728147c",
   "metadata": {},
   "outputs": [],
   "source": [
    "epochs = 88\n",
    "train_correct_mod2 = []\n",
    "test_correct_mod2 = []\n",
    "for i in range(epochs):\n",
    "    train_corr = 0\n",
    "    test_corr = 0\n",
    "\n",
    "    # Run the training batches\n",
    "    for b, (X_train, y_train) in enumerate(train_loader2):\n",
    "        \n",
    "        y_pred = model2(X_train.view(25, -1))  \n",
    "        loss = criterion1(y_pred, y_train)\n",
    "\n",
    "        # Tally the number of correct predictions\n",
    "        predicted = torch.max(y_pred.data, 1)[1]\n",
    "        batch_corr = (predicted == y_train).sum()\n",
    "        train_corr += batch_corr\n",
    "        \n",
    "        # Update parameters\n",
    "        optimizer2.zero_grad()\n",
    "        loss.backward()\n",
    "        optimizer2.step()\n",
    "        \n",
    "    # Update train loss & accuracy for the epoch\n",
    "    train_losses_mod2=loss\n",
    "    train_correct_mod2.append(train_corr)\n",
    "        \n",
    "    #testing the batches\n",
    "    with torch.no_grad():\n",
    "        for b, (X_test, y_test) in enumerate(test_loader2):\n",
    "\n",
    "            # Apply the model\n",
    "            y_val = model2(X_test.view(25, -1)) \n",
    "\n",
    "            # Tally the number of correct predictions\n",
    "            predicted = torch.max(y_val.data, 1)[1] \n",
    "            test_corr += (predicted == y_test).sum()\n",
    "    \n",
    "    # Update test loss & accuracy for the epoch\n",
    "    loss = criterion2(y_val, y_test)\n",
    "    test_losses_mod2=(loss)\n",
    "    test_correct_mod2.append(test_corr)\n",
    "    \n",
    "        "
   ]
  },
  {
   "cell_type": "code",
   "execution_count": 31,
   "id": "cc3d88d9",
   "metadata": {},
   "outputs": [],
   "source": [
    "train_losses_mod2= train_losses_mod2.detach().numpy()"
   ]
  },
  {
   "cell_type": "code",
   "execution_count": 32,
   "id": "99140dc1",
   "metadata": {},
   "outputs": [
    {
     "name": "stdout",
     "output_type": "stream",
     "text": [
      "tensor(98.9783)\n"
     ]
    }
   ],
   "source": [
    " for t in train_correct_mod2:\n",
    "    trn_accu_mod2=t/600\n",
    "    \n",
    "print(trn_accu_mod2)"
   ]
  },
  {
   "cell_type": "code",
   "execution_count": 33,
   "id": "103f213d",
   "metadata": {},
   "outputs": [
    {
     "name": "stdout",
     "output_type": "stream",
     "text": [
      "tensor(95.4600)\n"
     ]
    }
   ],
   "source": [
    " for t in test_correct_mod2:\n",
    "    tst_accu_mod2=t/100\n",
    "    \n",
    "print(tst_accu_mod2)"
   ]
  },
  {
   "cell_type": "code",
   "execution_count": 34,
   "id": "2e93bbbc",
   "metadata": {},
   "outputs": [],
   "source": [
    "# Calculating sensitivity of every model2\n",
    "\n",
    "# Model 2\n",
    "# Get gradient norm (From slides)\n",
    "grad_all = 0.0\n",
    "frob_norm_all = 0\n",
    "counter = 0\n",
    "for p in model2.parameters():\n",
    "    grad = 0.0\n",
    "    if p.grad is not None:\n",
    "        grad = p.grad\n",
    "        # Calculate Frobenius norm of gradients\n",
    "        frob_norm = torch.linalg.norm(grad).numpy()\n",
    "        frob_norm_all += frob_norm\n",
    "        counter += 1\n",
    "sensitivity_list.append(frob_norm_all / counter)\n",
    "\n"
   ]
  },
  {
   "cell_type": "code",
   "execution_count": null,
   "id": "ec40cd6c",
   "metadata": {},
   "outputs": [],
   "source": []
  },
  {
   "cell_type": "code",
   "execution_count": null,
   "id": "f974e2dd",
   "metadata": {},
   "outputs": [],
   "source": []
  },
  {
   "cell_type": "code",
   "execution_count": null,
   "id": "ce638e5b",
   "metadata": {},
   "outputs": [],
   "source": []
  },
  {
   "cell_type": "code",
   "execution_count": 35,
   "id": "31913cf5",
   "metadata": {},
   "outputs": [],
   "source": [
    "#######################################----------Model-3------------#####################################################################"
   ]
  },
  {
   "cell_type": "code",
   "execution_count": 36,
   "id": "63ce47ab",
   "metadata": {},
   "outputs": [],
   "source": [
    "#Model3 with 16330 parameters\n",
    "class Model3(nn.Module):\n",
    "    def __init__(self, in_features=784, h1=20, h2=20, out_features=10):\n",
    "        super().__init__()\n",
    "        self.fc1 = nn.Linear(in_features,h1)    \n",
    "        self.fc2 = nn.Linear(h1, h2)\n",
    "        self.out = nn.Linear(h2, out_features)\n",
    "        \n",
    "        \n",
    "    def forward(self, x):\n",
    "        x = F.relu(self.fc1(x))\n",
    "        x = F.relu(self.fc2(x))\n",
    "        x = self.out(x)\n",
    "        return x"
   ]
  },
  {
   "cell_type": "code",
   "execution_count": 37,
   "id": "67f4c47b",
   "metadata": {},
   "outputs": [],
   "source": [
    "model3=Model3()"
   ]
  },
  {
   "cell_type": "code",
   "execution_count": 38,
   "id": "cc59cb72",
   "metadata": {},
   "outputs": [
    {
     "data": {
      "text/plain": [
       "Model3(\n",
       "  (fc1): Linear(in_features=784, out_features=20, bias=True)\n",
       "  (fc2): Linear(in_features=20, out_features=20, bias=True)\n",
       "  (out): Linear(in_features=20, out_features=10, bias=True)\n",
       ")"
      ]
     },
     "execution_count": 38,
     "metadata": {},
     "output_type": "execute_result"
    }
   ],
   "source": [
    "model3"
   ]
  },
  {
   "cell_type": "code",
   "execution_count": 39,
   "id": "26b8d7e5",
   "metadata": {},
   "outputs": [
    {
     "name": "stdout",
     "output_type": "stream",
     "text": [
      "16330\n"
     ]
    }
   ],
   "source": [
    "model3params=CalcParams(model3)\n",
    "print(model3params)"
   ]
  },
  {
   "cell_type": "code",
   "execution_count": 40,
   "id": "58065c3c",
   "metadata": {},
   "outputs": [],
   "source": [
    "criterion3 = nn.CrossEntropyLoss()"
   ]
  },
  {
   "cell_type": "code",
   "execution_count": 41,
   "id": "50026e1c",
   "metadata": {},
   "outputs": [],
   "source": [
    "optimizer3 = torch.optim.Adam(model3.parameters(), lr=0.001)"
   ]
  },
  {
   "cell_type": "code",
   "execution_count": 42,
   "id": "00791973",
   "metadata": {},
   "outputs": [],
   "source": [
    "epochs = 88\n",
    "train_correct_mod3 = []\n",
    "test_correct_mod3 = []\n",
    "for i in range(epochs):\n",
    "    train_corr = 0\n",
    "    test_corr = 0\n",
    "\n",
    "    # Run the training batches\n",
    "    for b, (X_train, y_train) in enumerate(train_loader3):\n",
    "       \n",
    "        y_pred = model3(X_train.view(125, -1))  \n",
    "        loss = criterion1(y_pred, y_train)\n",
    "\n",
    "        # Tally the number of correct predictions\n",
    "        predicted = torch.max(y_pred.data, 1)[1]\n",
    "        batch_corr = (predicted == y_train).sum()\n",
    "        train_corr += batch_corr\n",
    "        \n",
    "        # Update parameters\n",
    "        optimizer3.zero_grad()\n",
    "        loss.backward()\n",
    "        optimizer3.step()\n",
    "        \n",
    "    # Update train loss & accuracy for the epoch\n",
    "    train_losses_mod3=loss\n",
    "    train_correct_mod3.append(train_corr)\n",
    "        \n",
    "    #testing the batches\n",
    "    with torch.no_grad():\n",
    "        for b, (X_test, y_test) in enumerate(test_loader3):\n",
    "\n",
    "            # Apply the model\n",
    "            y_val = model3(X_test.view(125, -1)) \n",
    "\n",
    "            # Tally the number of correct predictions\n",
    "            predicted = torch.max(y_val.data, 1)[1] \n",
    "            test_corr += (predicted == y_test).sum()\n",
    "    \n",
    "    # Update test loss & accuracy for the epoch\n",
    "    loss = criterion3(y_val, y_test)\n",
    "    test_losses_mod3=(loss)\n",
    "    test_correct_mod3.append(test_corr)\n",
    "    \n",
    "        "
   ]
  },
  {
   "cell_type": "code",
   "execution_count": 43,
   "id": "e7847a27",
   "metadata": {},
   "outputs": [],
   "source": [
    "train_losses_mod3= train_losses_mod3.detach().numpy()"
   ]
  },
  {
   "cell_type": "code",
   "execution_count": 44,
   "id": "c84b06a2",
   "metadata": {},
   "outputs": [
    {
     "name": "stdout",
     "output_type": "stream",
     "text": [
      "tensor(98.9900)\n"
     ]
    }
   ],
   "source": [
    "for t in train_correct_mod3:\n",
    "    trn_accu_mod3=t/600\n",
    "    \n",
    "print(trn_accu_mod3)"
   ]
  },
  {
   "cell_type": "code",
   "execution_count": 45,
   "id": "75256baa",
   "metadata": {},
   "outputs": [
    {
     "name": "stdout",
     "output_type": "stream",
     "text": [
      "tensor(95.9700)\n"
     ]
    }
   ],
   "source": [
    " for t in test_correct_mod3:\n",
    "    tst_accu_mod3=t/100\n",
    "    \n",
    "print(tst_accu_mod3)"
   ]
  },
  {
   "cell_type": "code",
   "execution_count": 46,
   "id": "90c4aeea",
   "metadata": {},
   "outputs": [],
   "source": [
    "# Calculating sensitivity of every model3\n",
    "\n",
    "# Model 3\n",
    "# Get gradient norm (From slides)\n",
    "grad_all = 0.0\n",
    "frob_norm_all = 0\n",
    "counter = 0\n",
    "for p in model3.parameters():\n",
    "    grad = 0.0\n",
    "    if p.grad is not None:\n",
    "        grad = p.grad\n",
    "        # Calculate Frobenius norm of gradients\n",
    "        frob_norm = torch.linalg.norm(grad).numpy()\n",
    "        frob_norm_all += frob_norm\n",
    "        counter += 1\n",
    "sensitivity_list.append(frob_norm_all / counter)"
   ]
  },
  {
   "cell_type": "code",
   "execution_count": null,
   "id": "b130ae0c",
   "metadata": {},
   "outputs": [],
   "source": []
  },
  {
   "cell_type": "code",
   "execution_count": null,
   "id": "ef587d20",
   "metadata": {},
   "outputs": [],
   "source": []
  },
  {
   "cell_type": "code",
   "execution_count": null,
   "id": "367df4e5",
   "metadata": {},
   "outputs": [],
   "source": []
  },
  {
   "cell_type": "code",
   "execution_count": 47,
   "id": "2f34e639",
   "metadata": {},
   "outputs": [],
   "source": [
    "#######################################----------Model-4------------#####################################################################"
   ]
  },
  {
   "cell_type": "code",
   "execution_count": 48,
   "id": "16065574",
   "metadata": {},
   "outputs": [],
   "source": [
    "#Model4 with 16330 parameters\n",
    "class Model4(nn.Module):\n",
    "    def __init__(self, in_features=784, h1=20, h2=20, out_features=10):\n",
    "        super().__init__()\n",
    "        self.fc1 = nn.Linear(in_features,h1)    \n",
    "        self.fc2 = nn.Linear(h1, h2)\n",
    "        self.out = nn.Linear(h2, out_features)\n",
    "        \n",
    "        \n",
    "    def forward(self, x):\n",
    "        x = F.relu(self.fc1(x))\n",
    "        x = F.relu(self.fc2(x))\n",
    "        x = self.out(x)\n",
    "        return x"
   ]
  },
  {
   "cell_type": "code",
   "execution_count": 49,
   "id": "e00eb035",
   "metadata": {},
   "outputs": [],
   "source": [
    "model4=Model4()"
   ]
  },
  {
   "cell_type": "code",
   "execution_count": 50,
   "id": "6f3f203c",
   "metadata": {},
   "outputs": [
    {
     "data": {
      "text/plain": [
       "Model4(\n",
       "  (fc1): Linear(in_features=784, out_features=20, bias=True)\n",
       "  (fc2): Linear(in_features=20, out_features=20, bias=True)\n",
       "  (out): Linear(in_features=20, out_features=10, bias=True)\n",
       ")"
      ]
     },
     "execution_count": 50,
     "metadata": {},
     "output_type": "execute_result"
    }
   ],
   "source": [
    "model4"
   ]
  },
  {
   "cell_type": "code",
   "execution_count": 51,
   "id": "3d37e724",
   "metadata": {},
   "outputs": [
    {
     "name": "stdout",
     "output_type": "stream",
     "text": [
      "16330\n"
     ]
    }
   ],
   "source": [
    "model4params=CalcParams(model4)\n",
    "print(model4params)"
   ]
  },
  {
   "cell_type": "code",
   "execution_count": 52,
   "id": "70007776",
   "metadata": {},
   "outputs": [],
   "source": [
    "criterion4 = nn.CrossEntropyLoss()"
   ]
  },
  {
   "cell_type": "code",
   "execution_count": 53,
   "id": "26a9d380",
   "metadata": {},
   "outputs": [],
   "source": [
    "optimizer4 = torch.optim.Adam(model4.parameters(), lr=0.001)"
   ]
  },
  {
   "cell_type": "code",
   "execution_count": 54,
   "id": "f73bc0c8",
   "metadata": {},
   "outputs": [],
   "source": [
    "epochs = 88\n",
    "train_correct_mod4 = []\n",
    "test_correct_mod4 = []\n",
    "for i in range(epochs):\n",
    "    train_corr = 0\n",
    "    test_corr = 0\n",
    "\n",
    "    # Run the training batches\n",
    "    for b, (X_train, y_train) in enumerate(train_loader4):\n",
    "        \n",
    "        y_pred = model4(X_train.view(500, -1))  \n",
    "        loss = criterion1(y_pred, y_train)\n",
    "\n",
    "        # Tally the number of correct predictions\n",
    "        predicted = torch.max(y_pred.data, 1)[1]\n",
    "        batch_corr = (predicted == y_train).sum()\n",
    "        train_corr += batch_corr\n",
    "        \n",
    "        # Update parameters\n",
    "        optimizer4.zero_grad()\n",
    "        loss.backward()\n",
    "        optimizer4.step()\n",
    "        \n",
    "    # Update train loss & accuracy for the epoch\n",
    "    train_losses_mod4=loss\n",
    "    train_correct_mod4.append(train_corr)\n",
    "        \n",
    "    #testing the batches\n",
    "    with torch.no_grad():\n",
    "        for b, (X_test, y_test) in enumerate(test_loader4):\n",
    "\n",
    "            # Apply the model\n",
    "            y_val = model4(X_test.view(500, -1)) \n",
    "\n",
    "            # Tally the number of correct predictions\n",
    "            predicted = torch.max(y_val.data, 1)[1] \n",
    "            test_corr += (predicted == y_test).sum()\n",
    "    \n",
    "    # Update test loss & accuracy for the epoch\n",
    "    loss = criterion4(y_val, y_test)\n",
    "    test_losses_mod4=(loss)\n",
    "    test_correct_mod4.append(test_corr)\n",
    "    \n",
    "        "
   ]
  },
  {
   "cell_type": "code",
   "execution_count": 55,
   "id": "15777782",
   "metadata": {},
   "outputs": [],
   "source": [
    "train_losses_mod4= train_losses_mod4.detach().numpy()"
   ]
  },
  {
   "cell_type": "code",
   "execution_count": 56,
   "id": "f895f29f",
   "metadata": {},
   "outputs": [
    {
     "name": "stdout",
     "output_type": "stream",
     "text": [
      "tensor(98.2583)\n"
     ]
    }
   ],
   "source": [
    "for t in train_correct_mod4:\n",
    "    trn_accu_mod4=t/600\n",
    "    \n",
    "print(trn_accu_mod4)"
   ]
  },
  {
   "cell_type": "code",
   "execution_count": 57,
   "id": "af62ff28",
   "metadata": {},
   "outputs": [
    {
     "name": "stdout",
     "output_type": "stream",
     "text": [
      "tensor(95.5600)\n"
     ]
    }
   ],
   "source": [
    " for t in test_correct_mod4:\n",
    "    tst_accu_mod4=t/100\n",
    "    \n",
    "print(tst_accu_mod4)"
   ]
  },
  {
   "cell_type": "code",
   "execution_count": 58,
   "id": "02519ada",
   "metadata": {},
   "outputs": [],
   "source": [
    "# Calculating sensitivity of every model4\n",
    "\n",
    "# Get gradient norm (From slides)\n",
    "grad_all = 0.0\n",
    "frob_norm_all = 0\n",
    "counter = 0\n",
    "for p in model4.parameters():\n",
    "    grad = 0.0\n",
    "    if p.grad is not None:\n",
    "        grad = p.grad\n",
    "        # Calculate Frobenius norm of gradients\n",
    "        frob_norm = torch.linalg.norm(grad).numpy()\n",
    "        frob_norm_all += frob_norm\n",
    "        counter += 1\n",
    "sensitivity_list.append(frob_norm_all / counter)"
   ]
  },
  {
   "cell_type": "code",
   "execution_count": null,
   "id": "8694eea3",
   "metadata": {},
   "outputs": [],
   "source": []
  },
  {
   "cell_type": "code",
   "execution_count": null,
   "id": "a13b1f89",
   "metadata": {},
   "outputs": [],
   "source": []
  },
  {
   "cell_type": "code",
   "execution_count": null,
   "id": "d06291e2",
   "metadata": {},
   "outputs": [],
   "source": []
  },
  {
   "cell_type": "code",
   "execution_count": 59,
   "id": "cf89b4fd",
   "metadata": {},
   "outputs": [],
   "source": [
    "#######################################----------Model-4------------#####################################################################"
   ]
  },
  {
   "cell_type": "code",
   "execution_count": 60,
   "id": "dbab5984",
   "metadata": {},
   "outputs": [],
   "source": [
    "#Model5 with 16330 parameters\n",
    "class Model5(nn.Module):\n",
    "    def __init__(self, in_features=784, h1=20, h2=20, out_features=10):\n",
    "        super().__init__()\n",
    "        self.fc1 = nn.Linear(in_features,h1)    \n",
    "        self.fc2 = nn.Linear(h1, h2)\n",
    "        self.out = nn.Linear(h2, out_features)\n",
    "        \n",
    "        \n",
    "    def forward(self, x):\n",
    "        x = F.relu(self.fc1(x))\n",
    "        x = F.relu(self.fc2(x))\n",
    "        x = self.out(x)\n",
    "        return x"
   ]
  },
  {
   "cell_type": "code",
   "execution_count": 61,
   "id": "80e5e36c",
   "metadata": {},
   "outputs": [],
   "source": [
    "model5=Model5()"
   ]
  },
  {
   "cell_type": "code",
   "execution_count": 62,
   "id": "dbbaf2d5",
   "metadata": {},
   "outputs": [
    {
     "data": {
      "text/plain": [
       "Model5(\n",
       "  (fc1): Linear(in_features=784, out_features=20, bias=True)\n",
       "  (fc2): Linear(in_features=20, out_features=20, bias=True)\n",
       "  (out): Linear(in_features=20, out_features=10, bias=True)\n",
       ")"
      ]
     },
     "execution_count": 62,
     "metadata": {},
     "output_type": "execute_result"
    }
   ],
   "source": [
    "model5"
   ]
  },
  {
   "cell_type": "code",
   "execution_count": 63,
   "id": "f3a710d6",
   "metadata": {},
   "outputs": [
    {
     "name": "stdout",
     "output_type": "stream",
     "text": [
      "16330\n"
     ]
    }
   ],
   "source": [
    "model5params=CalcParams(model5)\n",
    "print(model5params)"
   ]
  },
  {
   "cell_type": "code",
   "execution_count": 64,
   "id": "90515ecb",
   "metadata": {},
   "outputs": [],
   "source": [
    "criterion5 = nn.CrossEntropyLoss()"
   ]
  },
  {
   "cell_type": "code",
   "execution_count": 65,
   "id": "1c00f4a6",
   "metadata": {},
   "outputs": [],
   "source": [
    "optimizer5 = torch.optim.Adam(model5.parameters(), lr=0.001)"
   ]
  },
  {
   "cell_type": "code",
   "execution_count": 66,
   "id": "bf3ebd8c",
   "metadata": {},
   "outputs": [],
   "source": [
    "epochs = 88\n",
    "train_correct_mod5 = []\n",
    "test_correct_mod5 = []\n",
    "for i in range(epochs):\n",
    "    train_corr = 0\n",
    "    test_corr = 0\n",
    "\n",
    "    # Run the training batches\n",
    "    for b, (X_train, y_train) in enumerate(train_loader5):\n",
    "       \n",
    "        y_pred = model5(X_train.view(1000, -1))  \n",
    "        loss = criterion1(y_pred, y_train)\n",
    "\n",
    "        # Tally the number of correct predictions\n",
    "        predicted = torch.max(y_pred.data, 1)[1]\n",
    "        batch_corr = (predicted == y_train).sum()\n",
    "        train_corr += batch_corr\n",
    "        \n",
    "        # Update parameters\n",
    "        optimizer5.zero_grad()\n",
    "        loss.backward()\n",
    "        optimizer5.step()\n",
    "        \n",
    "    # Update train loss & accuracy for the epoch\n",
    "    train_losses_mod5=loss\n",
    "    train_correct_mod5.append(train_corr)\n",
    "        \n",
    "    #testing the batches\n",
    "    with torch.no_grad():\n",
    "        for b, (X_test, y_test) in enumerate(test_loader5):\n",
    "\n",
    "            # Apply the model\n",
    "            y_val = model5(X_test.view(1000, -1)) \n",
    "\n",
    "            # Tally the number of correct predictions\n",
    "            predicted = torch.max(y_val.data, 1)[1] \n",
    "            test_corr += (predicted == y_test).sum()\n",
    "    \n",
    "    # Update test loss & accuracy for the epoch\n",
    "    loss = criterion5(y_val, y_test)\n",
    "    test_losses_mod5=(loss)\n",
    "    test_correct_mod5.append(test_corr)\n",
    "    \n",
    "        "
   ]
  },
  {
   "cell_type": "code",
   "execution_count": 67,
   "id": "711a9f59",
   "metadata": {},
   "outputs": [],
   "source": [
    "train_losses_mod5= train_losses_mod5.detach().numpy()"
   ]
  },
  {
   "cell_type": "code",
   "execution_count": 68,
   "id": "0c5380fa",
   "metadata": {},
   "outputs": [
    {
     "name": "stdout",
     "output_type": "stream",
     "text": [
      "tensor(97.9383)\n"
     ]
    }
   ],
   "source": [
    "for t in train_correct_mod5:\n",
    "    trn_accu_mod5=t/600\n",
    "    \n",
    "print(trn_accu_mod5)"
   ]
  },
  {
   "cell_type": "code",
   "execution_count": 69,
   "id": "6cabf287",
   "metadata": {},
   "outputs": [
    {
     "name": "stdout",
     "output_type": "stream",
     "text": [
      "tensor(96.1700)\n"
     ]
    }
   ],
   "source": [
    "for t in test_correct_mod5:\n",
    "    tst_accu_mod5=t/100\n",
    "    \n",
    "print(tst_accu_mod5)"
   ]
  },
  {
   "cell_type": "code",
   "execution_count": 70,
   "id": "0e75ec0d",
   "metadata": {},
   "outputs": [],
   "source": [
    "# Calculating sensitivity of every model5\n",
    "\n",
    "# Get gradient norm (From slides)\n",
    "grad_all = 0.0\n",
    "frob_norm_all = 0\n",
    "counter = 0\n",
    "for p in model5.parameters():\n",
    "    grad = 0.0\n",
    "    if p.grad is not None:\n",
    "        grad = p.grad\n",
    "        # Calculate Frobenius norm of gradients\n",
    "        frob_norm = torch.linalg.norm(grad).numpy()\n",
    "        frob_norm_all += frob_norm\n",
    "        counter += 1\n",
    "sensitivity_list.append(frob_norm_all / counter)"
   ]
  },
  {
   "cell_type": "code",
   "execution_count": null,
   "id": "92f4df00",
   "metadata": {},
   "outputs": [],
   "source": []
  },
  {
   "cell_type": "code",
   "execution_count": 71,
   "id": "6d75f0ef",
   "metadata": {},
   "outputs": [],
   "source": [
    "train_loss_list=[]\n",
    "test_loss_list=[]\n",
    "train_accuracy_list=[]\n",
    "test_accuracy_list=[]\n",
    "\n",
    "train_loss_list.append(train_losses_mod1)\n",
    "train_loss_list.append(train_losses_mod2)\n",
    "train_loss_list.append(train_losses_mod3)\n",
    "train_loss_list.append(train_losses_mod4)\n",
    "train_loss_list.append(train_losses_mod5)\n",
    "\n",
    "test_loss_list.append(test_losses_mod1)\n",
    "test_loss_list.append(test_losses_mod2)\n",
    "test_loss_list.append(test_losses_mod3)\n",
    "test_loss_list.append(test_losses_mod4)\n",
    "test_loss_list.append(test_losses_mod5)\n",
    "\n",
    "train_accuracy_list.append(trn_accu_mod1)\n",
    "train_accuracy_list.append(trn_accu_mod2)\n",
    "train_accuracy_list.append(trn_accu_mod3)\n",
    "train_accuracy_list.append(trn_accu_mod4)\n",
    "train_accuracy_list.append(trn_accu_mod5)\n",
    "\n",
    "\n",
    "test_accuracy_list.append(tst_accu_mod1)\n",
    "test_accuracy_list.append(tst_accu_mod2)\n",
    "test_accuracy_list.append(tst_accu_mod3)\n",
    "test_accuracy_list.append(tst_accu_mod4)\n",
    "test_accuracy_list.append(tst_accu_mod5)"
   ]
  },
  {
   "cell_type": "code",
   "execution_count": 72,
   "id": "afe3d448",
   "metadata": {},
   "outputs": [
    {
     "data": {
      "text/plain": [
       "<matplotlib.legend.Legend at 0x7fa7195e1220>"
      ]
     },
     "execution_count": 72,
     "metadata": {},
     "output_type": "execute_result"
    },
    {
     "data": {
      "image/png": "[encoded data removed]",
      "text/plain": [
       "<Figure size 432x288 with 2 Axes>"
      ]
     },
     "metadata": {
      "needs_background": "light"
     },
     "output_type": "display_data"
    }
   ],
   "source": [
    "# Visulaize Loss and Sensitivity by batch size of all models\n",
    "fig, ax1 = plt.subplots()\n",
    "ax2 = ax1.twinx()\n",
    "ax1.plot(batch_sizes, train_loss_list, 'b', label='Train')\n",
    "ax1.plot(batch_sizes, test_loss_list, 'b--', label='Test')\n",
    "ax2.plot(batch_sizes, sensitivity_list, 'r', label='Sensitivity')\n",
    "ax1.set_title('Effect of Batch Size on Loss and Sensitivity')\n",
    "ax1.set_xlabel('Batch Sizes')\n",
    "ax1.set_xscale('log')\n",
    "ax1.set_ylabel('Loss', color='b')\n",
    "ax2.set_ylabel('Sensitivity', color='r')\n",
    "ax1.legend(loc='upper center')"
   ]
  },
  {
   "cell_type": "code",
   "execution_count": 73,
   "id": "78bb1f66",
   "metadata": {},
   "outputs": [
    {
     "data": {
      "text/plain": [
       "<matplotlib.legend.Legend at 0x7fa7494d6be0>"
      ]
     },
     "execution_count": 73,
     "metadata": {},
     "output_type": "execute_result"
    },
    {
     "data": {
      "image/png": "[encoded data removed]",
      "text/plain": [
       "<Figure size 432x288 with 2 Axes>"
      ]
     },
     "metadata": {
      "needs_background": "light"
     },
     "output_type": "display_data"
    }
   ],
   "source": [
    "# Visulaize Accuracy and Sensitivity by batch size of all models\n",
    "fig, ax1 = plt.subplots()\n",
    "ax2 = ax1.twinx()\n",
    "ax1.plot(batch_sizes, train_accuracy_list, 'b', label='Train')\n",
    "ax1.plot(batch_sizes, test_accuracy_list, 'b--', label='Test')\n",
    "ax2.plot(batch_sizes, sensitivity_list, 'r', label='Sensitivity')\n",
    "ax1.set_title('Effect of Batch Size on Accuracy and Sensitivity')\n",
    "ax1.set_xlabel('Batch Sizes')\n",
    "ax1.set_xscale('log')\n",
    "ax1.set_ylabel('accuracy', color='b')\n",
    "ax2.set_ylabel('Sensitivity', color='r')\n",
    "ax1.legend(loc='upper right')"
   ]
  },
  {
   "cell_type": "code",
   "execution_count": null,
   "id": "6dea34b5",
   "metadata": {},
   "outputs": [],
   "source": []
  }
 ],
 "metadata": {
  "kernelspec": {
   "display_name": "Python 3 (ipykernel)",
   "language": "python",
   "name": "python3"
  },
  "language_info": {
   "codemirror_mode": {
    "name": "ipython",
    "version": 3
   },
   "file_extension": ".py",
   "mimetype": "text/x-python",
   "name": "python",
   "nbconvert_exporter": "python",
   "pygments_lexer": "ipython3",
   "version": "3.9.7"
  }
 },
 "nbformat": 4,
 "nbformat_minor": 5
}
