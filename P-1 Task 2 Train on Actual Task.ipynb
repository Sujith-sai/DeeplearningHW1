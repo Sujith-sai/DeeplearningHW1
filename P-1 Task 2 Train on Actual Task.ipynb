{
 "cells": [
  {
   "cell_type": "code",
   "execution_count": 1,
   "id": "a1520a66",
   "metadata": {},
   "outputs": [],
   "source": [
    "import torch\n",
    "import torch.nn as nn\n",
    "import torch.nn.functional as F\n",
    "from torch.utils.data import DataLoader\n",
    "from torchvision import datasets, transforms\n",
    "\n",
    "import numpy as np\n",
    "import pandas as pd\n",
    "import matplotlib.pyplot as plt\n",
    "%matplotlib inline"
   ]
  },
  {
   "cell_type": "code",
   "execution_count": 2,
   "id": "de2be9e8",
   "metadata": {},
   "outputs": [
    {
     "name": "stdout",
     "output_type": "stream",
     "text": [
      "Downloading http://yann.lecun.com/exdb/mnist/train-images-idx3-ubyte.gz\n",
      "Downloading http://yann.lecun.com/exdb/mnist/train-images-idx3-ubyte.gz to /Users/saisujithmakkena/Desktop/MNIST/raw/train-images-idx3-ubyte.gz\n"
     ]
    },
    {
     "data": {
      "application/vnd.jupyter.widget-view+json": {
       "model_id": "d9c93c76752447f1955c537a6aecc144",
       "version_major": 2,
       "version_minor": 0
      },
      "text/plain": [
       "  0%|          | 0/9912422 [00:00<?, ?it/s]"
      ]
     },
     "metadata": {},
     "output_type": "display_data"
    },
    {
     "name": "stdout",
     "output_type": "stream",
     "text": [
      "Extracting /Users/saisujithmakkena/Desktop/MNIST/raw/train-images-idx3-ubyte.gz to /Users/saisujithmakkena/Desktop/MNIST/raw\n",
      "\n",
      "Downloading http://yann.lecun.com/exdb/mnist/train-labels-idx1-ubyte.gz\n",
      "Downloading http://yann.lecun.com/exdb/mnist/train-labels-idx1-ubyte.gz to /Users/saisujithmakkena/Desktop/MNIST/raw/train-labels-idx1-ubyte.gz\n"
     ]
    },
    {
     "data": {
      "application/vnd.jupyter.widget-view+json": {
       "model_id": "fad4420bf3314d61b7ff9af28db26f42",
       "version_major": 2,
       "version_minor": 0
      },
      "text/plain": [
       "  0%|          | 0/28881 [00:00<?, ?it/s]"
      ]
     },
     "metadata": {},
     "output_type": "display_data"
    },
    {
     "name": "stdout",
     "output_type": "stream",
     "text": [
      "Extracting /Users/saisujithmakkena/Desktop/MNIST/raw/train-labels-idx1-ubyte.gz to /Users/saisujithmakkena/Desktop/MNIST/raw\n",
      "\n",
      "Downloading http://yann.lecun.com/exdb/mnist/t10k-images-idx3-ubyte.gz\n",
      "Downloading http://yann.lecun.com/exdb/mnist/t10k-images-idx3-ubyte.gz to /Users/saisujithmakkena/Desktop/MNIST/raw/t10k-images-idx3-ubyte.gz\n"
     ]
    },
    {
     "data": {
      "application/vnd.jupyter.widget-view+json": {
       "model_id": "efd028be3b0a4e91a02071b7e3a4ccd5",
       "version_major": 2,
       "version_minor": 0
      },
      "text/plain": [
       "  0%|          | 0/1648877 [00:00<?, ?it/s]"
      ]
     },
     "metadata": {},
     "output_type": "display_data"
    },
    {
     "name": "stdout",
     "output_type": "stream",
     "text": [
      "Extracting /Users/saisujithmakkena/Desktop/MNIST/raw/t10k-images-idx3-ubyte.gz to /Users/saisujithmakkena/Desktop/MNIST/raw\n",
      "\n",
      "Downloading http://yann.lecun.com/exdb/mnist/t10k-labels-idx1-ubyte.gz\n",
      "Downloading http://yann.lecun.com/exdb/mnist/t10k-labels-idx1-ubyte.gz to /Users/saisujithmakkena/Desktop/MNIST/raw/t10k-labels-idx1-ubyte.gz\n"
     ]
    },
    {
     "data": {
      "application/vnd.jupyter.widget-view+json": {
       "model_id": "d7e8251ff6f3404686bcff4f7ebd291a",
       "version_major": 2,
       "version_minor": 0
      },
      "text/plain": [
       "  0%|          | 0/4542 [00:00<?, ?it/s]"
      ]
     },
     "metadata": {},
     "output_type": "display_data"
    },
    {
     "name": "stdout",
     "output_type": "stream",
     "text": [
      "Extracting /Users/saisujithmakkena/Desktop/MNIST/raw/t10k-labels-idx1-ubyte.gz to /Users/saisujithmakkena/Desktop/MNIST/raw\n",
      "\n"
     ]
    }
   ],
   "source": [
    "transform = transforms.ToTensor() \n",
    "\n",
    "train_data_set = datasets.MNIST(root='/Users/saisujithmakkena/Desktop', train=True, download=True, transform=transform)\n",
    "test_data_set = datasets.MNIST(root='/Users/saisujithmakkena/Desktop', train=False, download=True, transform=transform)"
   ]
  },
  {
   "cell_type": "code",
   "execution_count": 3,
   "id": "6a13d304",
   "metadata": {},
   "outputs": [
    {
     "data": {
      "text/plain": [
       "Dataset MNIST\n",
       "    Number of datapoints: 60000\n",
       "    Root location: /Users/saisujithmakkena/Desktop\n",
       "    Split: Train\n",
       "    StandardTransform\n",
       "Transform: ToTensor()"
      ]
     },
     "execution_count": 3,
     "metadata": {},
     "output_type": "execute_result"
    }
   ],
   "source": [
    "train_data_set"
   ]
  },
  {
   "cell_type": "code",
   "execution_count": 4,
   "id": "9a3b753d",
   "metadata": {},
   "outputs": [
    {
     "data": {
      "text/plain": [
       "Dataset MNIST\n",
       "    Number of datapoints: 10000\n",
       "    Root location: /Users/saisujithmakkena/Desktop\n",
       "    Split: Test\n",
       "    StandardTransform\n",
       "Transform: ToTensor()"
      ]
     },
     "execution_count": 4,
     "metadata": {},
     "output_type": "execute_result"
    }
   ],
   "source": [
    "test_data_set"
   ]
  },
  {
   "cell_type": "code",
   "execution_count": 6,
   "id": "b674ddd7",
   "metadata": {},
   "outputs": [],
   "source": [
    "train_loader = DataLoader(train_data_set, batch_size=10, shuffle=True)\n",
    "test_loader = DataLoader(test_data_set, batch_size=10, shuffle=False)"
   ]
  },
  {
   "cell_type": "code",
   "execution_count": 7,
   "id": "ce1f3f72",
   "metadata": {},
   "outputs": [],
   "source": [
    "convul1 = nn.Conv2d(1, 8, 3, 1)\n",
    "convul2 = nn.Conv2d(8, 18, 3, 1)"
   ]
  },
  {
   "cell_type": "code",
   "execution_count": 8,
   "id": "5cf1e335",
   "metadata": {},
   "outputs": [],
   "source": [
    "class ConvolNetwork1(nn.Module):\n",
    "    def __init__(self):\n",
    "        super().__init__()\n",
    "        self.convul1 = nn.Conv2d(1, 8, 3, 1)\n",
    "        self.convul2 = nn.Conv2d(8, 18, 3, 1)\n",
    "        self.fc1 = nn.Linear(5*5*18, 18)\n",
    "        self.fc2 = nn.Linear(18,10)\n",
    "                \n",
    "\n",
    "    def forward(self, x):\n",
    "        x = F.relu(self.convul1(x))\n",
    "        x = F.max_pool2d(x, 2, 2)\n",
    "        x = F.relu(self.convul2(x))\n",
    "        x = F.max_pool2d(x, 2, 2)\n",
    "        x = x.view(-1, 5*5*18)\n",
    "        x = F.relu(self.fc1(x))\n",
    "        x = self.fc2(x)\n",
    "        return F.log_softmax(x, dim=1)"
   ]
  },
  {
   "cell_type": "code",
   "execution_count": 9,
   "id": "c7a17cc1",
   "metadata": {},
   "outputs": [
    {
     "data": {
      "text/plain": [
       "ConvolNetwork1(\n",
       "  (convul1): Conv2d(1, 8, kernel_size=(3, 3), stride=(1, 1))\n",
       "  (convul2): Conv2d(8, 18, kernel_size=(3, 3), stride=(1, 1))\n",
       "  (fc1): Linear(in_features=450, out_features=18, bias=True)\n",
       "  (fc2): Linear(in_features=18, out_features=10, bias=True)\n",
       ")"
      ]
     },
     "execution_count": 9,
     "metadata": {},
     "output_type": "execute_result"
    }
   ],
   "source": [
    "model1 = ConvolNetwork1()\n",
    "model1"
   ]
  },
  {
   "cell_type": "code",
   "execution_count": 10,
   "id": "7ff76e74",
   "metadata": {},
   "outputs": [],
   "source": [
    "crit_loss1 = nn.CrossEntropyLoss()\n",
    "optim1 = torch.optim.Adam(model1.parameters(), lr=0.001)"
   ]
  },
  {
   "cell_type": "code",
   "execution_count": 11,
   "id": "496ade81",
   "metadata": {},
   "outputs": [],
   "source": [
    "epochs = 50\n",
    "train_losses1 = []\n",
    "test_losses1 = []\n",
    "train_correct1 = []\n",
    "test_correct1 = []\n",
    "\n",
    "for i in range(epochs):\n",
    "    train_corr1 = 0\n",
    "    test_corr1 = 0\n",
    "    \n",
    "    # training the batches\n",
    "    for b, (x_train, y_train) in enumerate(train_loader):\n",
    "        \n",
    "        # Applying the model\n",
    "        y_pred = model1(x_train)  \n",
    "        loss = crit_loss1(y_pred, y_train)\n",
    " \n",
    "        predicted = torch.max(y_pred.data, 1)[1]\n",
    "        batch_corr = (predicted == y_train).sum()\n",
    "        train_corr1 += batch_corr\n",
    "        \n",
    "        # Updating parameters\n",
    "        optim1.zero_grad()\n",
    "        loss.backward()\n",
    "        optim1.step()\n",
    "        \n",
    "        \n",
    "    train_losses1.append(loss)\n",
    "    train_correct1.append(train_corr1)\n",
    "        \n",
    "    # testing the batches\n",
    "    with torch.no_grad():\n",
    "        for b, (x_test, y_test) in enumerate(test_loader):\n",
    "            y_val = model1(x_test)\n",
    "\n",
    "            predicted = torch.max(y_val.data, 1)[1] \n",
    "            test_corr1 += (predicted == y_test).sum()\n",
    "            \n",
    "    loss = crit_loss1(y_val, y_test)\n",
    "    test_losses1.append(loss)\n",
    "    test_correct1.append(test_corr1)"
   ]
  },
  {
   "cell_type": "code",
   "execution_count": 12,
   "id": "7ee6ffe4",
   "metadata": {},
   "outputs": [],
   "source": [
    "train_losses1=torch.tensor(train_losses1)"
   ]
  },
  {
   "cell_type": "code",
   "execution_count": null,
   "id": "35fd0d54",
   "metadata": {},
   "outputs": [],
   "source": []
  },
  {
   "cell_type": "code",
   "execution_count": 13,
   "id": "c079e949",
   "metadata": {},
   "outputs": [],
   "source": [
    "################################## Training Actual Tasks, CNN with MNIST model 2 #############################"
   ]
  },
  {
   "cell_type": "code",
   "execution_count": 14,
   "id": "0860c8fb",
   "metadata": {},
   "outputs": [],
   "source": [
    "con1 = nn.Conv2d(1, 6, 4, 1)\n",
    "con2 = nn.Conv2d(6, 16, 4, 1)"
   ]
  },
  {
   "cell_type": "code",
   "execution_count": 15,
   "id": "334eb92a",
   "metadata": {},
   "outputs": [],
   "source": [
    "class ConvolNetwork2(nn.Module):\n",
    "    def __init__(self):\n",
    "        super().__init__()\n",
    "        self.convul1 = nn.Conv2d(1, 6, 4, 1)\n",
    "        self.convul2 = nn.Conv2d(6, 16, 4, 1)\n",
    "        self.fc1 = nn.Linear(4*4*16, 16)\n",
    "        self.fc2 = nn.Linear(16,14)\n",
    "        self.fc3 = nn.Linear(14,10)\n",
    "                \n",
    "\n",
    "    def forward(self, y):\n",
    "        y = F.relu(self.convul1(y))\n",
    "        y = F.max_pool2d(y, 2, 2)\n",
    "        y = F.relu(self.convul2(y))\n",
    "        y = F.max_pool2d(y, 2, 2)\n",
    "        y = y.view(-1, 4*4*16)\n",
    "        y = F.relu(self.fc1(y))\n",
    "        y = F.relu(self.fc2(y))\n",
    "        y = self.fc3(y)\n",
    "        return F.log_softmax(y, dim=1)"
   ]
  },
  {
   "cell_type": "code",
   "execution_count": 16,
   "id": "c2df1bfe",
   "metadata": {},
   "outputs": [
    {
     "data": {
      "text/plain": [
       "ConvolNetwork2(\n",
       "  (convul1): Conv2d(1, 6, kernel_size=(4, 4), stride=(1, 1))\n",
       "  (convul2): Conv2d(6, 16, kernel_size=(4, 4), stride=(1, 1))\n",
       "  (fc1): Linear(in_features=256, out_features=16, bias=True)\n",
       "  (fc2): Linear(in_features=16, out_features=14, bias=True)\n",
       "  (fc3): Linear(in_features=14, out_features=10, bias=True)\n",
       ")"
      ]
     },
     "execution_count": 16,
     "metadata": {},
     "output_type": "execute_result"
    }
   ],
   "source": [
    "model2 = ConvolNetwork2()\n",
    "model2"
   ]
  },
  {
   "cell_type": "code",
   "execution_count": 17,
   "id": "1ec36607",
   "metadata": {},
   "outputs": [],
   "source": [
    "crit_loss2 = nn.CrossEntropyLoss()\n",
    "optim2 = torch.optim.Adam(model2.parameters(), lr=0.001)"
   ]
  },
  {
   "cell_type": "code",
   "execution_count": 18,
   "id": "2752b41f",
   "metadata": {},
   "outputs": [],
   "source": [
    "epochs = 50\n",
    "train_losses2 = []\n",
    "test_losses2 = []\n",
    "train_correct2 = []\n",
    "test_correct2 = []\n",
    "\n",
    "for i in range(epochs):\n",
    "    train_corr2 = 0\n",
    "    test_corr2 = 0\n",
    "    \n",
    "    # training the batches\n",
    "    for b, (x_train, y_train) in enumerate(train_loader):\n",
    "        \n",
    "        # Applying the model\n",
    "        y_pred2 = model2(x_train)\n",
    "        loss2 = crit_loss2(y_pred2, y_train)\n",
    " \n",
    "        predicted2 = torch.max(y_pred2.data, 1)[1]\n",
    "        batch_corr2 = (predicted2 == y_train).sum()\n",
    "        train_corr2 += batch_corr2\n",
    "        \n",
    "        # Updating parameters\n",
    "        optim2.zero_grad()\n",
    "        loss2.backward()\n",
    "        optim2.step()\n",
    "        \n",
    "        \n",
    "    train_losses2.append(loss2)\n",
    "    train_correct2.append(train_corr2)\n",
    "        \n",
    "    \n",
    "    with torch.no_grad():\n",
    "        for b, (x_test, y_test) in enumerate(test_loader):\n",
    "            \n",
    "            y_val = model2(x_test)\n",
    "            predicted2 = torch.max(y_val.data, 1)[1] \n",
    "            test_corr2 += (predicted2 == y_test).sum()\n",
    "            \n",
    "    loss2 = crit_loss2(y_val, y_test)\n",
    "    test_losses2.append(loss2)\n",
    "    test_correct2.append(test_corr2)"
   ]
  },
  {
   "cell_type": "code",
   "execution_count": 19,
   "id": "875f81ef",
   "metadata": {},
   "outputs": [],
   "source": [
    "train_losses2=torch.tensor(train_losses2)"
   ]
  },
  {
   "cell_type": "code",
   "execution_count": 20,
   "id": "e8a08245",
   "metadata": {},
   "outputs": [
    {
     "data": {
      "image/png": "[encoded data removed]",
      "text/plain": [
       "<Figure size 432x288 with 1 Axes>"
      ]
     },
     "metadata": {
      "needs_background": "light"
     },
     "output_type": "display_data"
    }
   ],
   "source": [
    "### Plotting training loss on all models  \n",
    "plt.plot(train_losses1.detach().numpy(), label='training loss mod1')\n",
    "plt.plot(train_losses2.detach().numpy(),'r', label='training loss mod2')\n",
    "plt.title('Loss')\n",
    "plt.legend();"
   ]
  },
  {
   "cell_type": "code",
   "execution_count": 21,
   "id": "49917681",
   "metadata": {},
   "outputs": [
    {
     "data": {
      "image/png": "[encoded data removed]",
      "text/plain": [
       "<Figure size 432x288 with 1 Axes>"
      ]
     },
     "metadata": {
      "needs_background": "light"
     },
     "output_type": "display_data"
    }
   ],
   "source": [
    "### Plotting accuracy of all models \n",
    "plt.plot([t/600 for t in train_correct1],'r' ,label='accuracy mod1')\n",
    "plt.plot([t/600 for t in train_correct2], 'b', label='accuracy mod2')\n",
    "plt.title('Accuracy')\n",
    "plt.legend();\n"
   ]
  },
  {
   "cell_type": "code",
   "execution_count": null,
   "id": "efa5e970",
   "metadata": {},
   "outputs": [],
   "source": []
  }
 ],
 "metadata": {
  "kernelspec": {
   "display_name": "Python 3 (ipykernel)",
   "language": "python",
   "name": "python3"
  },
  "language_info": {
   "codemirror_mode": {
    "name": "ipython",
    "version": 3
   },
   "file_extension": ".py",
   "mimetype": "text/x-python",
   "name": "python",
   "nbconvert_exporter": "python",
   "pygments_lexer": "ipython3",
   "version": "3.9.7"
  }
 },
 "nbformat": 4,
 "nbformat_minor": 5
}
