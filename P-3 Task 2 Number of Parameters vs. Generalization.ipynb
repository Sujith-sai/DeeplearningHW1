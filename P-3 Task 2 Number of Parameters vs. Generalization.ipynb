{
 "cells": [
  {
   "cell_type": "code",
   "execution_count": 1,
   "id": "0c971ce3",
   "metadata": {},
   "outputs": [],
   "source": [
    "import torch\n",
    "import torch.nn as nn\n",
    "import torch.nn.functional as F\n",
    "from torch.utils.data import DataLoader\n",
    "from torchvision import datasets, transforms\n",
    "from torchvision.utils import make_grid\n",
    "\n",
    "import numpy as np\n",
    "import pandas as pd\n",
    "from sklearn.metrics import confusion_matrix\n",
    "import matplotlib.pyplot as plt\n",
    "%matplotlib inline"
   ]
  },
  {
   "cell_type": "code",
   "execution_count": 2,
   "id": "6f364ee7",
   "metadata": {},
   "outputs": [],
   "source": [
    "transform = transforms.ToTensor()"
   ]
  },
  {
   "cell_type": "code",
   "execution_count": 3,
   "id": "4e09c15d",
   "metadata": {},
   "outputs": [],
   "source": [
    "train_data_set = datasets.MNIST(root='/Users/saisujithmakkena/Desktop', train=True, download=True, transform=transform)\n",
    "test_data_set = datasets.MNIST(root='/Users/saisujithmakkena/Desktop', train=False, download=True, transform=transform)"
   ]
  },
  {
   "cell_type": "code",
   "execution_count": 4,
   "id": "f9c7a702",
   "metadata": {},
   "outputs": [
    {
     "data": {
      "text/plain": [
       "Dataset MNIST\n",
       "    Number of datapoints: 60000\n",
       "    Root location: /Users/saisujithmakkena/Desktop\n",
       "    Split: Train\n",
       "    StandardTransform\n",
       "Transform: ToTensor()"
      ]
     },
     "execution_count": 4,
     "metadata": {},
     "output_type": "execute_result"
    }
   ],
   "source": [
    "train_data_set"
   ]
  },
  {
   "cell_type": "code",
   "execution_count": 5,
   "id": "36be17b5",
   "metadata": {},
   "outputs": [
    {
     "data": {
      "text/plain": [
       "Dataset MNIST\n",
       "    Number of datapoints: 10000\n",
       "    Root location: /Users/saisujithmakkena/Desktop\n",
       "    Split: Test\n",
       "    StandardTransform\n",
       "Transform: ToTensor()"
      ]
     },
     "execution_count": 5,
     "metadata": {},
     "output_type": "execute_result"
    }
   ],
   "source": [
    "test_data_set"
   ]
  },
  {
   "cell_type": "code",
   "execution_count": 6,
   "id": "e055e64e",
   "metadata": {},
   "outputs": [],
   "source": [
    "train_loader = DataLoader(train_data_set, batch_size=500, shuffle=True)\n",
    "\n",
    "test_loader = DataLoader(test_data_set, batch_size=100, shuffle=False)"
   ]
  },
  {
   "cell_type": "code",
   "execution_count": 7,
   "id": "22ce34c8",
   "metadata": {},
   "outputs": [],
   "source": [
    "# Calculating number of parameters in the class\n",
    "def CalcParams(model):\n",
    "    val = sum(params.numel() for params in model.parameters() if params.requires_grad)\n",
    "    return val"
   ]
  },
  {
   "cell_type": "code",
   "execution_count": 8,
   "id": "3e479fc1",
   "metadata": {},
   "outputs": [],
   "source": [
    "#Model1 with 1645 parameters\n",
    "class Model1(nn.Module):\n",
    "    def __init__(self, in_features=784, h1=2, h2=5, out_features=10):\n",
    "        super().__init__()\n",
    "        self.fc1 = nn.Linear(in_features,h1)    \n",
    "        self.fc2 = nn.Linear(h1, h2)\n",
    "        self.out = nn.Linear(h2, out_features)\n",
    "        \n",
    "        \n",
    "    def forward(self, x):\n",
    "        x = F.relu(self.fc1(x))\n",
    "        x = F.relu(self.fc2(x))\n",
    "        x = self.out(x)\n",
    "        return x"
   ]
  },
  {
   "cell_type": "code",
   "execution_count": 9,
   "id": "e52e0d5d",
   "metadata": {},
   "outputs": [],
   "source": [
    "model1=Model1()"
   ]
  },
  {
   "cell_type": "code",
   "execution_count": 10,
   "id": "ee76b189",
   "metadata": {},
   "outputs": [
    {
     "data": {
      "text/plain": [
       "Model1(\n",
       "  (fc1): Linear(in_features=784, out_features=2, bias=True)\n",
       "  (fc2): Linear(in_features=2, out_features=5, bias=True)\n",
       "  (out): Linear(in_features=5, out_features=10, bias=True)\n",
       ")"
      ]
     },
     "execution_count": 10,
     "metadata": {},
     "output_type": "execute_result"
    }
   ],
   "source": [
    "model1"
   ]
  },
  {
   "cell_type": "code",
   "execution_count": 11,
   "id": "dbe31b35",
   "metadata": {},
   "outputs": [
    {
     "name": "stdout",
     "output_type": "stream",
     "text": [
      "1645\n"
     ]
    }
   ],
   "source": [
    "\n",
    "model1params=CalcParams(model1)\n",
    "print(model1params)"
   ]
  },
  {
   "cell_type": "code",
   "execution_count": 12,
   "id": "1da4eb0b",
   "metadata": {},
   "outputs": [],
   "source": [
    "criterion1 = nn.CrossEntropyLoss()"
   ]
  },
  {
   "cell_type": "code",
   "execution_count": 13,
   "id": "158af8d6",
   "metadata": {},
   "outputs": [],
   "source": [
    "optimizer1 = torch.optim.Adam(model1.parameters(), lr=0.001)"
   ]
  },
  {
   "cell_type": "code",
   "execution_count": 14,
   "id": "cb3a0bff",
   "metadata": {},
   "outputs": [],
   "source": [
    "epochs = 69\n",
    "train_correct_mod1 = []\n",
    "test_correct_mod1 = []\n",
    "for i in range(epochs):\n",
    "    train_corr = 0\n",
    "    test_corr = 0\n",
    "\n",
    "    # Run the training batches\n",
    "    for b, (X_train, y_train) in enumerate(train_loader):\n",
    "        \n",
    "        y_pred = model1(X_train.view(500, -1))  \n",
    "        loss = criterion1(y_pred, y_train)\n",
    "\n",
    "        # Tally the number of correct predictions\n",
    "        predicted = torch.max(y_pred.data, 1)[1]\n",
    "        batch_corr = (predicted == y_train).sum()\n",
    "        train_corr += batch_corr\n",
    "        \n",
    "        # Update parameters\n",
    "        optimizer1.zero_grad()\n",
    "        loss.backward()\n",
    "        optimizer1.step()\n",
    "        \n",
    "    # Update train loss & accuracy for the epoch\n",
    "    train_losses_mod1=loss\n",
    "    train_correct_mod1.append(train_corr)\n",
    "        \n",
    "    # Run the testing batches\n",
    "    with torch.no_grad():\n",
    "        for b, (X_test, y_test) in enumerate(test_loader):\n",
    "\n",
    "            # Apply the model\n",
    "            y_val = model1(X_test.view(100, -1)) \n",
    "\n",
    "            # Tally the number of correct predictions\n",
    "            predicted = torch.max(y_val.data, 1)[1] \n",
    "            test_corr += (predicted == y_test).sum()\n",
    "    \n",
    "    # Update test loss & accuracy for the epoch\n",
    "    loss = criterion1(y_val, y_test)\n",
    "    test_losses_mod1=(loss)\n",
    "    test_correct_mod1.append(test_corr)\n",
    "    \n",
    "        "
   ]
  },
  {
   "cell_type": "code",
   "execution_count": 15,
   "id": "c1703f9f",
   "metadata": {},
   "outputs": [],
   "source": [
    "train_losses_mod1= train_losses_mod1.detach().numpy()\n"
   ]
  },
  {
   "cell_type": "code",
   "execution_count": 16,
   "id": "5e17302b",
   "metadata": {},
   "outputs": [
    {
     "name": "stdout",
     "output_type": "stream",
     "text": [
      "tensor(71.6333)\n"
     ]
    }
   ],
   "source": [
    " for t in train_correct_mod1:\n",
    "    trn_accu_mod1=t/600\n",
    "    \n",
    "print(trn_accu_mod1)"
   ]
  },
  {
   "cell_type": "code",
   "execution_count": 17,
   "id": "c2fe0d01",
   "metadata": {},
   "outputs": [
    {
     "name": "stdout",
     "output_type": "stream",
     "text": [
      "tensor(72.0200)\n"
     ]
    }
   ],
   "source": [
    " for t in test_correct_mod1:\n",
    "    tst_accu_mod1=t/100\n",
    "    \n",
    "print(tst_accu_mod1)"
   ]
  },
  {
   "cell_type": "code",
   "execution_count": null,
   "id": "70fbefd0",
   "metadata": {},
   "outputs": [],
   "source": []
  },
  {
   "cell_type": "code",
   "execution_count": 18,
   "id": "46fadf7e",
   "metadata": {},
   "outputs": [],
   "source": [
    "#######################################----------Model-2------------#####################################################################"
   ]
  },
  {
   "cell_type": "code",
   "execution_count": null,
   "id": "11ba244d",
   "metadata": {},
   "outputs": [],
   "source": []
  },
  {
   "cell_type": "code",
   "execution_count": 19,
   "id": "85d7ba07",
   "metadata": {},
   "outputs": [],
   "source": [
    "#Model2 with 3240parameters\n",
    "class Model2(nn.Module):\n",
    "    def __init__(self, in_features=784, h1=4, h2=6, out_features=10):\n",
    "        super().__init__()\n",
    "        self.fc1 = nn.Linear(in_features,h1)    \n",
    "        self.fc2 = nn.Linear(h1, h2)\n",
    "        self.out = nn.Linear(h2, out_features)\n",
    "        \n",
    "        \n",
    "    def forward(self, x):\n",
    "        x = F.relu(self.fc1(x))\n",
    "        x = F.relu(self.fc2(x))\n",
    "        x = self.out(x)\n",
    "        return x"
   ]
  },
  {
   "cell_type": "code",
   "execution_count": 20,
   "id": "40a5acd2",
   "metadata": {},
   "outputs": [],
   "source": [
    "model2=Model2()"
   ]
  },
  {
   "cell_type": "code",
   "execution_count": 21,
   "id": "c1dc81db",
   "metadata": {},
   "outputs": [
    {
     "data": {
      "text/plain": [
       "Model2(\n",
       "  (fc1): Linear(in_features=784, out_features=4, bias=True)\n",
       "  (fc2): Linear(in_features=4, out_features=6, bias=True)\n",
       "  (out): Linear(in_features=6, out_features=10, bias=True)\n",
       ")"
      ]
     },
     "execution_count": 21,
     "metadata": {},
     "output_type": "execute_result"
    }
   ],
   "source": [
    "model2"
   ]
  },
  {
   "cell_type": "code",
   "execution_count": 22,
   "id": "0ae1f3a5",
   "metadata": {},
   "outputs": [
    {
     "name": "stdout",
     "output_type": "stream",
     "text": [
      "3240\n"
     ]
    }
   ],
   "source": [
    "model2params=CalcParams(model2)\n",
    "print(model2params)"
   ]
  },
  {
   "cell_type": "code",
   "execution_count": 23,
   "id": "4f3685ce",
   "metadata": {},
   "outputs": [],
   "source": [
    "criterion2 = nn.CrossEntropyLoss()"
   ]
  },
  {
   "cell_type": "code",
   "execution_count": 24,
   "id": "e01ca0a7",
   "metadata": {},
   "outputs": [],
   "source": [
    "optimizer2 = torch.optim.Adam(model2.parameters(), lr=0.001)"
   ]
  },
  {
   "cell_type": "code",
   "execution_count": 25,
   "id": "33fe9566",
   "metadata": {},
   "outputs": [],
   "source": [
    "epochs = 69\n",
    "train_correct_mod2 = []\n",
    "test_correct_mod2 = []\n",
    "\n",
    "for i in range(epochs):\n",
    "    train_corr = 0\n",
    "    test_corr = 0\n",
    "    # Run the training batches\n",
    "    for b, (X_train, y_train) in enumerate(train_loader):\n",
    "       \n",
    "        y_pred = model2(X_train.view(500, -1))  \n",
    "        loss = criterion2(y_pred, y_train)\n",
    "\n",
    "        # Tally the number of correct predictions\n",
    "        predicted = torch.max(y_pred.data, 1)[1]\n",
    "        batch_corr = (predicted == y_train).sum()\n",
    "        train_corr += batch_corr\n",
    "        \n",
    "        \n",
    "              \n",
    "        # Update parameters\n",
    "        optimizer2.zero_grad()\n",
    "        loss.backward()\n",
    "        optimizer2.step()\n",
    "        \n",
    "#     print(train_corr.item()*100/(100*b))\n",
    "    # Update train loss & accuracy for the epoch\n",
    "    train_losses_mod2=loss\n",
    "    train_correct_mod2.append(train_corr)\n",
    "        \n",
    "    # Run the testing batches\n",
    "    with torch.no_grad():\n",
    "        for b, (X_test, y_test) in enumerate(test_loader):\n",
    "\n",
    "            # Apply the model\n",
    "            y_val = model2(X_test.view(100, -1)) \n",
    "\n",
    "            # Tally the number of correct predictions\n",
    "            predicted = torch.max(y_val.data, 1)[1] \n",
    "            test_corr += (predicted == y_test).sum()\n",
    "    \n",
    "    # Update test loss & accuracy for the epoch\n",
    "    loss = criterion2(y_val, y_test)\n",
    "    test_losses_mod2=(loss)\n",
    "    test_correct_mod2.append(test_corr)\n",
    "        "
   ]
  },
  {
   "cell_type": "code",
   "execution_count": 26,
   "id": "52beecc7",
   "metadata": {},
   "outputs": [],
   "source": [
    "train_losses_mod2= train_losses_mod2.detach().numpy()"
   ]
  },
  {
   "cell_type": "code",
   "execution_count": 27,
   "id": "0b7a02a2",
   "metadata": {},
   "outputs": [
    {
     "name": "stdout",
     "output_type": "stream",
     "text": [
      "tensor(87.6733)\n"
     ]
    }
   ],
   "source": [
    "for t in train_correct_mod2:\n",
    "    trn_accu_mod2=t/600\n",
    "    \n",
    "print(trn_accu_mod2)"
   ]
  },
  {
   "cell_type": "code",
   "execution_count": 28,
   "id": "c88b3df9",
   "metadata": {},
   "outputs": [
    {
     "name": "stdout",
     "output_type": "stream",
     "text": [
      "tensor(87.1000)\n"
     ]
    }
   ],
   "source": [
    " for t in test_correct_mod2:\n",
    "    tst_accu_mod2=t/100\n",
    "    \n",
    "print(tst_accu_mod2)"
   ]
  },
  {
   "cell_type": "code",
   "execution_count": null,
   "id": "fc0d0249",
   "metadata": {},
   "outputs": [],
   "source": []
  },
  {
   "cell_type": "code",
   "execution_count": null,
   "id": "7de49691",
   "metadata": {},
   "outputs": [],
   "source": []
  },
  {
   "cell_type": "code",
   "execution_count": null,
   "id": "790e15dc",
   "metadata": {},
   "outputs": [],
   "source": []
  },
  {
   "cell_type": "code",
   "execution_count": 29,
   "id": "7f646ac3",
   "metadata": {},
   "outputs": [],
   "source": [
    "#######################################----------Model-3------------#####################################################################"
   ]
  },
  {
   "cell_type": "code",
   "execution_count": 30,
   "id": "cb7cd7d8",
   "metadata": {},
   "outputs": [],
   "source": [
    "#Model3 with 8280 parameters\n",
    "class Model3(nn.Module):\n",
    "    def __init__(self, in_features=784, h1=10, h2=20, out_features=10):\n",
    "        super().__init__()\n",
    "        self.fc1 = nn.Linear(in_features,h1)    \n",
    "        self.fc2 = nn.Linear(h1, h2)\n",
    "        self.out = nn.Linear(h2, out_features)\n",
    "        \n",
    "        \n",
    "    def forward(self, x):\n",
    "        x = F.relu(self.fc1(x))\n",
    "        x = F.relu(self.fc2(x))\n",
    "        x = self.out(x)\n",
    "        return x"
   ]
  },
  {
   "cell_type": "code",
   "execution_count": 31,
   "id": "bd746f70",
   "metadata": {},
   "outputs": [],
   "source": [
    "model3=Model3()"
   ]
  },
  {
   "cell_type": "code",
   "execution_count": 32,
   "id": "18463ce3",
   "metadata": {},
   "outputs": [
    {
     "data": {
      "text/plain": [
       "Model3(\n",
       "  (fc1): Linear(in_features=784, out_features=10, bias=True)\n",
       "  (fc2): Linear(in_features=10, out_features=20, bias=True)\n",
       "  (out): Linear(in_features=20, out_features=10, bias=True)\n",
       ")"
      ]
     },
     "execution_count": 32,
     "metadata": {},
     "output_type": "execute_result"
    }
   ],
   "source": [
    "model3"
   ]
  },
  {
   "cell_type": "code",
   "execution_count": 33,
   "id": "8ee2d4c1",
   "metadata": {},
   "outputs": [
    {
     "name": "stdout",
     "output_type": "stream",
     "text": [
      "8280\n"
     ]
    }
   ],
   "source": [
    "model3params=CalcParams(model3)\n",
    "print(model3params)"
   ]
  },
  {
   "cell_type": "code",
   "execution_count": 34,
   "id": "0366a76b",
   "metadata": {},
   "outputs": [],
   "source": [
    "criterion3 = nn.CrossEntropyLoss()\n",
    "optimizer3 = torch.optim.Adam(model3.parameters(), lr=0.001)"
   ]
  },
  {
   "cell_type": "code",
   "execution_count": 35,
   "id": "075d6385",
   "metadata": {},
   "outputs": [],
   "source": [
    "epochs = 69\n",
    "train_correct_mod3 = []\n",
    "test_correct_mod3 = []\n",
    "for i in range(epochs):\n",
    "    train_corr = 0\n",
    "    test_corr = 0\n",
    "    \n",
    "    # Run the training batches\n",
    "    for b, (X_train, y_train) in enumerate(train_loader):\n",
    "       \n",
    "        y_pred = model3(X_train.view(500, -1))  \n",
    "        loss = criterion3(y_pred, y_train)\n",
    "\n",
    "        # Tally the number of correct predictions\n",
    "        predicted = torch.max(y_pred.data, 1)[1]\n",
    "        batch_corr = (predicted == y_train).sum()\n",
    "        train_corr += batch_corr\n",
    "        \n",
    "        # Update parameters\n",
    "        optimizer3.zero_grad()\n",
    "        loss.backward()\n",
    "        optimizer3.step()\n",
    "        \n",
    "    # Update train loss & accuracy for the epoch\n",
    "    train_losses_mod3=loss\n",
    "    train_correct_mod3.append(train_corr)\n",
    "        \n",
    "    # Run the testing batches\n",
    "    with torch.no_grad():\n",
    "        for b, (X_test, y_test) in enumerate(test_loader):\n",
    "\n",
    "            # Apply the model\n",
    "            y_val = model3(X_test.view(100, -1)) \n",
    "\n",
    "            # Tally the number of correct predictions\n",
    "            predicted = torch.max(y_val.data, 1)[1] \n",
    "            test_corr += (predicted == y_test).sum()\n",
    "    \n",
    "    # Update test loss & accuracy for the epoch\n",
    "    loss = criterion3(y_val, y_test)\n",
    "    test_losses_mod3=loss\n",
    "    test_correct_mod3.append(test_corr)\n",
    "        "
   ]
  },
  {
   "cell_type": "code",
   "execution_count": 36,
   "id": "8b92ea4b",
   "metadata": {},
   "outputs": [],
   "source": [
    "train_losses_mod3= train_losses_mod3.detach().numpy()"
   ]
  },
  {
   "cell_type": "code",
   "execution_count": 37,
   "id": "d8f84770",
   "metadata": {},
   "outputs": [
    {
     "name": "stdout",
     "output_type": "stream",
     "text": [
      "tensor(95.9750)\n"
     ]
    }
   ],
   "source": [
    "for t in train_correct_mod3:\n",
    "    trn_accu_mod3=t/600\n",
    "    \n",
    "print(trn_accu_mod3)"
   ]
  },
  {
   "cell_type": "code",
   "execution_count": 38,
   "id": "8d541b91",
   "metadata": {},
   "outputs": [
    {
     "name": "stdout",
     "output_type": "stream",
     "text": [
      "tensor(94.5600)\n"
     ]
    }
   ],
   "source": [
    "for t in test_correct_mod3:\n",
    "    tst_accu_mod3=t/100\n",
    "    \n",
    "print(tst_accu_mod3)"
   ]
  },
  {
   "cell_type": "code",
   "execution_count": null,
   "id": "a6b7c8be",
   "metadata": {},
   "outputs": [],
   "source": []
  },
  {
   "cell_type": "code",
   "execution_count": null,
   "id": "b471bbf5",
   "metadata": {},
   "outputs": [],
   "source": []
  },
  {
   "cell_type": "code",
   "execution_count": 39,
   "id": "6723e551",
   "metadata": {},
   "outputs": [],
   "source": [
    "#######################################----------Model-4------------#####################################################################"
   ]
  },
  {
   "cell_type": "code",
   "execution_count": 40,
   "id": "ee728004",
   "metadata": {},
   "outputs": [],
   "source": [
    "#Model4 with 16950 parameters\n",
    "class Model4(nn.Module):\n",
    "    def __init__(self, in_features=784, h1=20, h2=40, out_features=10):\n",
    "        super().__init__()\n",
    "        self.fc1 = nn.Linear(in_features,h1)    \n",
    "        self.fc2 = nn.Linear(h1, h2)\n",
    "        self.out = nn.Linear(h2, out_features)\n",
    "        \n",
    "        \n",
    "    def forward(self, x):\n",
    "        x = F.relu(self.fc1(x))\n",
    "        x = F.relu(self.fc2(x))\n",
    "        x = self.out(x)\n",
    "        return x"
   ]
  },
  {
   "cell_type": "code",
   "execution_count": 41,
   "id": "a29c17e9",
   "metadata": {},
   "outputs": [],
   "source": [
    "model4=Model4()"
   ]
  },
  {
   "cell_type": "code",
   "execution_count": 42,
   "id": "6221710e",
   "metadata": {},
   "outputs": [
    {
     "data": {
      "text/plain": [
       "Model4(\n",
       "  (fc1): Linear(in_features=784, out_features=20, bias=True)\n",
       "  (fc2): Linear(in_features=20, out_features=40, bias=True)\n",
       "  (out): Linear(in_features=40, out_features=10, bias=True)\n",
       ")"
      ]
     },
     "execution_count": 42,
     "metadata": {},
     "output_type": "execute_result"
    }
   ],
   "source": [
    "model4"
   ]
  },
  {
   "cell_type": "code",
   "execution_count": 43,
   "id": "bbedf321",
   "metadata": {},
   "outputs": [
    {
     "name": "stdout",
     "output_type": "stream",
     "text": [
      "16950\n"
     ]
    }
   ],
   "source": [
    "model4params=CalcParams(model4)\n",
    "print(model4params)"
   ]
  },
  {
   "cell_type": "code",
   "execution_count": 44,
   "id": "48f51f23",
   "metadata": {},
   "outputs": [],
   "source": [
    "criterion4 = nn.CrossEntropyLoss()\n",
    "optimizer4 = torch.optim.Adam(model4.parameters(), lr=0.001)"
   ]
  },
  {
   "cell_type": "code",
   "execution_count": 45,
   "id": "7d49fcb8",
   "metadata": {},
   "outputs": [],
   "source": [
    "epochs = 69\n",
    "train_correct_mod4 = []\n",
    "test_correct_mod4 = []\n",
    "for i in range(epochs):\n",
    "    train_corr = 0\n",
    "    test_corr = 0\n",
    "    \n",
    "    # Run the training batches\n",
    "    for b, (X_train, y_train) in enumerate(train_loader):\n",
    "       \n",
    "        y_pred = model4(X_train.view(500, -1))  \n",
    "        loss = criterion4(y_pred, y_train)\n",
    "\n",
    "        # Tally the number of correct predictions\n",
    "        predicted = torch.max(y_pred.data, 1)[1]\n",
    "        batch_corr = (predicted == y_train).sum()\n",
    "        train_corr += batch_corr\n",
    "        \n",
    "        # Update parameters\n",
    "        optimizer4.zero_grad()\n",
    "        loss.backward()\n",
    "        optimizer4.step()\n",
    "        \n",
    "    # Update train loss & accuracy for the epoch\n",
    "    train_losses_mod4=loss\n",
    "    train_correct_mod4.append(train_corr)\n",
    "        \n",
    "    # Run the testing batches\n",
    "    with torch.no_grad():\n",
    "        for b, (X_test, y_test) in enumerate(test_loader):\n",
    "\n",
    "            # Apply the model\n",
    "            y_val = model4(X_test.view(100, -1)) \n",
    "\n",
    "            # Tally the number of correct predictions\n",
    "            predicted = torch.max(y_val.data, 1)[1] \n",
    "            test_corr += (predicted == y_test).sum()\n",
    "    \n",
    "    # Update test loss & accuracy for the epoch\n",
    "    loss = criterion4(y_val, y_test)\n",
    "    test_losses_mod4=loss\n",
    "    test_correct_mod4.append(test_corr)\n",
    "        "
   ]
  },
  {
   "cell_type": "code",
   "execution_count": 46,
   "id": "1bb02ed4",
   "metadata": {},
   "outputs": [],
   "source": [
    "train_losses_mod4 = train_losses_mod4.detach().numpy()"
   ]
  },
  {
   "cell_type": "code",
   "execution_count": 47,
   "id": "e29a8d3b",
   "metadata": {},
   "outputs": [
    {
     "name": "stdout",
     "output_type": "stream",
     "text": [
      "tensor(98.6800)\n"
     ]
    }
   ],
   "source": [
    "for t in train_correct_mod4:\n",
    "    trn_accu_mod4=t/600\n",
    "    \n",
    "print(trn_accu_mod4)"
   ]
  },
  {
   "cell_type": "code",
   "execution_count": 48,
   "id": "b475d279",
   "metadata": {},
   "outputs": [
    {
     "name": "stdout",
     "output_type": "stream",
     "text": [
      "tensor(96.4200)\n"
     ]
    }
   ],
   "source": [
    "for t in test_correct_mod4:\n",
    "    tst_accu_mod4=t/100\n",
    "    \n",
    "print(tst_accu_mod4)"
   ]
  },
  {
   "cell_type": "code",
   "execution_count": null,
   "id": "0f85dc4b",
   "metadata": {},
   "outputs": [],
   "source": []
  },
  {
   "cell_type": "code",
   "execution_count": null,
   "id": "d3327b8a",
   "metadata": {},
   "outputs": [],
   "source": []
  },
  {
   "cell_type": "code",
   "execution_count": 49,
   "id": "ff78e8aa",
   "metadata": {},
   "outputs": [],
   "source": [
    "#######################################----------Model-5------------#####################################################################"
   ]
  },
  {
   "cell_type": "code",
   "execution_count": 50,
   "id": "b39b789e",
   "metadata": {},
   "outputs": [],
   "source": [
    "#Model5 with 44140 parameters\n",
    "class Model5(nn.Module):\n",
    "    def __init__(self, in_features=784, h1=50, h2=80, out_features=10):\n",
    "        super().__init__()\n",
    "        self.fc1 = nn.Linear(in_features,h1)    \n",
    "        self.fc2 = nn.Linear(h1, h2)\n",
    "        self.out = nn.Linear(h2, out_features)\n",
    "        \n",
    "        \n",
    "    def forward(self, x):\n",
    "        x = F.relu(self.fc1(x))\n",
    "        x = F.relu(self.fc2(x))\n",
    "        x = self.out(x)\n",
    "        return x"
   ]
  },
  {
   "cell_type": "code",
   "execution_count": 51,
   "id": "7584e3ad",
   "metadata": {},
   "outputs": [],
   "source": [
    "model5=Model5()"
   ]
  },
  {
   "cell_type": "code",
   "execution_count": 52,
   "id": "0257cbb0",
   "metadata": {},
   "outputs": [
    {
     "data": {
      "text/plain": [
       "Model5(\n",
       "  (fc1): Linear(in_features=784, out_features=50, bias=True)\n",
       "  (fc2): Linear(in_features=50, out_features=80, bias=True)\n",
       "  (out): Linear(in_features=80, out_features=10, bias=True)\n",
       ")"
      ]
     },
     "execution_count": 52,
     "metadata": {},
     "output_type": "execute_result"
    }
   ],
   "source": [
    "model5"
   ]
  },
  {
   "cell_type": "code",
   "execution_count": 53,
   "id": "eecde4b6",
   "metadata": {},
   "outputs": [
    {
     "name": "stdout",
     "output_type": "stream",
     "text": [
      "44140\n"
     ]
    }
   ],
   "source": [
    "model5params=CalcParams(model5)\n",
    "print(model5params)"
   ]
  },
  {
   "cell_type": "code",
   "execution_count": 54,
   "id": "c06cde89",
   "metadata": {},
   "outputs": [],
   "source": [
    "criterion5 = nn.CrossEntropyLoss()\n",
    "optimizer5 = torch.optim.Adam(model5.parameters(), lr=0.001)"
   ]
  },
  {
   "cell_type": "code",
   "execution_count": 55,
   "id": "7c5772e0",
   "metadata": {},
   "outputs": [],
   "source": [
    "epochs = 69\n",
    "train_correct_mod5 = []\n",
    "test_correct_mod5 = []\n",
    "for i in range(epochs):\n",
    "    train_corr = 0\n",
    "    test_corr = 0\n",
    "    \n",
    "    # Run the training batches\n",
    "    for b, (X_train, y_train) in enumerate(train_loader):\n",
    "       \n",
    "        y_pred = model5(X_train.view(500, -1))  \n",
    "        loss = criterion5(y_pred, y_train)\n",
    "\n",
    "        # Tally the number of correct predictions\n",
    "        predicted = torch.max(y_pred.data, 1)[1]\n",
    "        batch_corr = (predicted == y_train).sum()\n",
    "        train_corr += batch_corr\n",
    "        \n",
    "        # Update parameters\n",
    "        optimizer5.zero_grad()\n",
    "        loss.backward()\n",
    "        optimizer5.step()\n",
    "        \n",
    "    # Update train loss & accuracy for the epoch\n",
    "    train_losses_mod5=loss\n",
    "    train_correct_mod5.append(train_corr)\n",
    "        \n",
    "    # Run the testing batches\n",
    "    with torch.no_grad():\n",
    "        for b, (X_test, y_test) in enumerate(test_loader):\n",
    "\n",
    "            # Apply the model\n",
    "            y_val = model5(X_test.view(100, -1)) \n",
    "\n",
    "            # Tally the number of correct predictions\n",
    "            predicted = torch.max(y_val.data, 1)[1] \n",
    "            test_corr += (predicted == y_test).sum()\n",
    "    \n",
    "    # Update test loss & accuracy for the epoch\n",
    "    loss = criterion5(y_val, y_test)\n",
    "    test_losses_mod5=loss\n",
    "    test_correct_mod5.append(test_corr)\n",
    "        "
   ]
  },
  {
   "cell_type": "code",
   "execution_count": 56,
   "id": "f9c43274",
   "metadata": {},
   "outputs": [],
   "source": [
    "train_losses_mod5 = train_losses_mod5.detach().numpy()"
   ]
  },
  {
   "cell_type": "code",
   "execution_count": 57,
   "id": "2be4fb89",
   "metadata": {},
   "outputs": [
    {
     "name": "stdout",
     "output_type": "stream",
     "text": [
      "tensor(99.9950)\n"
     ]
    }
   ],
   "source": [
    "for t in train_correct_mod5:\n",
    "    trn_accu_mod5=t/600\n",
    "    \n",
    "print(trn_accu_mod5)"
   ]
  },
  {
   "cell_type": "code",
   "execution_count": 58,
   "id": "f7e134cc",
   "metadata": {},
   "outputs": [
    {
     "name": "stdout",
     "output_type": "stream",
     "text": [
      "tensor(97.3700)\n"
     ]
    }
   ],
   "source": [
    "for t in test_correct_mod5:\n",
    "    tst_accu_mod5=t/100\n",
    "    \n",
    "print(tst_accu_mod5)"
   ]
  },
  {
   "cell_type": "code",
   "execution_count": null,
   "id": "ee3afe68",
   "metadata": {},
   "outputs": [],
   "source": []
  },
  {
   "cell_type": "code",
   "execution_count": null,
   "id": "48dcb6cc",
   "metadata": {},
   "outputs": [],
   "source": []
  },
  {
   "cell_type": "code",
   "execution_count": 59,
   "id": "c5c9bc16",
   "metadata": {},
   "outputs": [],
   "source": [
    "#######################################----------Model-6------------#####################################################################"
   ]
  },
  {
   "cell_type": "code",
   "execution_count": 60,
   "id": "f402f879",
   "metadata": {},
   "outputs": [],
   "source": [
    "#Model6 with 44140 parameters\n",
    "class Model6(nn.Module):\n",
    "    def __init__(self, in_features=784, h1=100, h2=120, out_features=10):\n",
    "        super().__init__()\n",
    "        self.fc1 = nn.Linear(in_features,h1)    \n",
    "        self.fc2 = nn.Linear(h1, h2)\n",
    "        self.out = nn.Linear(h2, out_features)\n",
    "        \n",
    "        \n",
    "    def forward(self, x):\n",
    "        x = F.relu(self.fc1(x))\n",
    "        x = F.relu(self.fc2(x))\n",
    "        x = self.out(x)\n",
    "        return x"
   ]
  },
  {
   "cell_type": "code",
   "execution_count": 61,
   "id": "49c24c8f",
   "metadata": {},
   "outputs": [],
   "source": [
    "model6=Model6()"
   ]
  },
  {
   "cell_type": "code",
   "execution_count": 62,
   "id": "da0ab1a2",
   "metadata": {},
   "outputs": [
    {
     "data": {
      "text/plain": [
       "Model6(\n",
       "  (fc1): Linear(in_features=784, out_features=100, bias=True)\n",
       "  (fc2): Linear(in_features=100, out_features=120, bias=True)\n",
       "  (out): Linear(in_features=120, out_features=10, bias=True)\n",
       ")"
      ]
     },
     "execution_count": 62,
     "metadata": {},
     "output_type": "execute_result"
    }
   ],
   "source": [
    "model6"
   ]
  },
  {
   "cell_type": "code",
   "execution_count": 63,
   "id": "3b1ebc00",
   "metadata": {},
   "outputs": [
    {
     "name": "stdout",
     "output_type": "stream",
     "text": [
      "91830\n"
     ]
    }
   ],
   "source": [
    "model6params=CalcParams(model6)\n",
    "print(model6params)"
   ]
  },
  {
   "cell_type": "code",
   "execution_count": 64,
   "id": "312da79d",
   "metadata": {},
   "outputs": [],
   "source": [
    "criterion6 = nn.CrossEntropyLoss()\n",
    "optimizer6 = torch.optim.Adam(model6.parameters(), lr=0.001)"
   ]
  },
  {
   "cell_type": "code",
   "execution_count": 65,
   "id": "c68f969b",
   "metadata": {},
   "outputs": [],
   "source": [
    "epochs = 69\n",
    "train_correct_mod6 = []\n",
    "test_correct_mod6 = []\n",
    "\n",
    "for i in range(epochs):\n",
    "    train_corr = 0\n",
    "    test_corr = 0\n",
    "    \n",
    "    # Run the training batches\n",
    "    for b, (X_train, y_train) in enumerate(train_loader):\n",
    "       \n",
    "        y_pred = model6(X_train.view(500, -1))  \n",
    "        loss = criterion6(y_pred, y_train)\n",
    "\n",
    "        # Tally the number of correct predictions\n",
    "        predicted = torch.max(y_pred.data, 1)[1]\n",
    "        batch_corr = (predicted == y_train).sum()\n",
    "        train_corr += batch_corr\n",
    "        \n",
    "        # Update parameters\n",
    "        optimizer6.zero_grad()\n",
    "        loss.backward()\n",
    "        optimizer6.step()\n",
    "        \n",
    "    # Update train loss & accuracy for the epoch\n",
    "    train_losses_mod6=loss\n",
    "    train_correct_mod6.append(train_corr)\n",
    "        \n",
    "    # Run the testing batches\n",
    "    with torch.no_grad():\n",
    "        for b, (X_test, y_test) in enumerate(test_loader):\n",
    "\n",
    "            # Apply the model\n",
    "            y_val = model6(X_test.view(100, -1)) \n",
    "\n",
    "            # Tally the number of correct predictions\n",
    "            predicted = torch.max(y_val.data, 1)[1] \n",
    "            test_corr += (predicted == y_test).sum()\n",
    "    \n",
    "    # Update test loss & accuracy for the epoch\n",
    "    loss = criterion6(y_val, y_test)\n",
    "    test_losses_mod6=loss\n",
    "    test_correct_mod6.append(test_corr)\n",
    "        "
   ]
  },
  {
   "cell_type": "code",
   "execution_count": 66,
   "id": "371acf12",
   "metadata": {},
   "outputs": [],
   "source": [
    "train_losses_mod6 = train_losses_mod6.detach().numpy()"
   ]
  },
  {
   "cell_type": "code",
   "execution_count": 67,
   "id": "1cdd9542",
   "metadata": {},
   "outputs": [
    {
     "name": "stdout",
     "output_type": "stream",
     "text": [
      "tensor(100.)\n"
     ]
    }
   ],
   "source": [
    "for t in train_correct_mod6:\n",
    "    trn_accu_mod6=t/600\n",
    "    \n",
    "print(trn_accu_mod6)"
   ]
  },
  {
   "cell_type": "code",
   "execution_count": 68,
   "id": "224c70a4",
   "metadata": {},
   "outputs": [
    {
     "name": "stdout",
     "output_type": "stream",
     "text": [
      "tensor(97.8100)\n"
     ]
    }
   ],
   "source": [
    "for t in test_correct_mod6:\n",
    "    tst_accu_mod6=t/100\n",
    "    \n",
    "print(tst_accu_mod6)"
   ]
  },
  {
   "cell_type": "code",
   "execution_count": null,
   "id": "70085713",
   "metadata": {},
   "outputs": [],
   "source": []
  },
  {
   "cell_type": "code",
   "execution_count": null,
   "id": "85111e38",
   "metadata": {},
   "outputs": [],
   "source": []
  },
  {
   "cell_type": "code",
   "execution_count": 69,
   "id": "a78e5378",
   "metadata": {},
   "outputs": [],
   "source": [
    "#######################################----------Model-7------------#####################################################################"
   ]
  },
  {
   "cell_type": "code",
   "execution_count": 70,
   "id": "62ca40f5",
   "metadata": {},
   "outputs": [],
   "source": [
    "#Model7 with 160410 parameters\n",
    "class Model7(nn.Module):\n",
    "    def __init__(self, in_features=784, h1=180, h2=100, out_features=10):\n",
    "        super().__init__()\n",
    "        self.fc1 = nn.Linear(in_features,h1)    \n",
    "        self.fc2 = nn.Linear(h1, h2)\n",
    "        self.out = nn.Linear(h2, out_features)\n",
    "        \n",
    "        \n",
    "    def forward(self, x):\n",
    "        x = F.relu(self.fc1(x))\n",
    "        x = F.relu(self.fc2(x))\n",
    "        x = self.out(x)\n",
    "        return x"
   ]
  },
  {
   "cell_type": "code",
   "execution_count": 71,
   "id": "2d5553e2",
   "metadata": {},
   "outputs": [],
   "source": [
    "model7=Model7()"
   ]
  },
  {
   "cell_type": "code",
   "execution_count": 72,
   "id": "f7297018",
   "metadata": {},
   "outputs": [
    {
     "data": {
      "text/plain": [
       "Model7(\n",
       "  (fc1): Linear(in_features=784, out_features=180, bias=True)\n",
       "  (fc2): Linear(in_features=180, out_features=100, bias=True)\n",
       "  (out): Linear(in_features=100, out_features=10, bias=True)\n",
       ")"
      ]
     },
     "execution_count": 72,
     "metadata": {},
     "output_type": "execute_result"
    }
   ],
   "source": [
    "model7"
   ]
  },
  {
   "cell_type": "code",
   "execution_count": 73,
   "id": "bf0eb4fa",
   "metadata": {},
   "outputs": [
    {
     "name": "stdout",
     "output_type": "stream",
     "text": [
      "160410\n"
     ]
    }
   ],
   "source": [
    "model7params=CalcParams(model7)\n",
    "print(model7params)"
   ]
  },
  {
   "cell_type": "code",
   "execution_count": 74,
   "id": "04321880",
   "metadata": {},
   "outputs": [],
   "source": [
    "criterion7 = nn.CrossEntropyLoss()\n",
    "optimizer7 = torch.optim.Adam(model7.parameters(), lr=0.001)"
   ]
  },
  {
   "cell_type": "code",
   "execution_count": 75,
   "id": "1d46d9c1",
   "metadata": {},
   "outputs": [],
   "source": [
    "epochs = 69\n",
    "train_correct_mod7 = []\n",
    "test_correct_mod7 = []\n",
    "\n",
    "for i in range(epochs):\n",
    "    train_corr = 0\n",
    "    test_corr = 0\n",
    "    \n",
    "    # Run the training batches\n",
    "    for b, (X_train, y_train) in enumerate(train_loader):\n",
    "       \n",
    "        y_pred = model7(X_train.view(500, -1))  \n",
    "        loss = criterion7(y_pred, y_train)\n",
    "\n",
    "        # Tally the number of correct predictions\n",
    "        predicted = torch.max(y_pred.data, 1)[1]\n",
    "        batch_corr = (predicted == y_train).sum()\n",
    "        train_corr += batch_corr\n",
    "        \n",
    "        # Update parameters\n",
    "        optimizer7.zero_grad()\n",
    "        loss.backward()\n",
    "        optimizer7.step()\n",
    "        \n",
    "    # Update train loss & accuracy for the epoch\n",
    "    train_losses_mod7=loss\n",
    "    train_correct_mod7.append(train_corr)\n",
    "        \n",
    "    # Run the testing batches\n",
    "    with torch.no_grad():\n",
    "        for b, (X_test, y_test) in enumerate(test_loader):\n",
    "\n",
    "            # Apply the model\n",
    "            y_val = model7(X_test.view(100, -1)) \n",
    "\n",
    "            # Tally the number of correct predictions\n",
    "            predicted = torch.max(y_val.data, 1)[1] \n",
    "            test_corr += (predicted == y_test).sum()\n",
    "    \n",
    "    # Update test loss & accuracy for the epoch\n",
    "    loss = criterion7(y_val, y_test)\n",
    "    test_losses_mod7=loss\n",
    "    test_correct_mod7.append(test_corr)\n",
    "        "
   ]
  },
  {
   "cell_type": "code",
   "execution_count": 76,
   "id": "5782a9fb",
   "metadata": {},
   "outputs": [],
   "source": [
    "train_losses_mod7 = train_losses_mod7.detach().numpy()"
   ]
  },
  {
   "cell_type": "code",
   "execution_count": 77,
   "id": "e53ac7fa",
   "metadata": {},
   "outputs": [
    {
     "name": "stdout",
     "output_type": "stream",
     "text": [
      "tensor(100.)\n"
     ]
    }
   ],
   "source": [
    "for t in train_correct_mod7:\n",
    "    trn_accu_mod7=t/600\n",
    "    \n",
    "print(trn_accu_mod7)"
   ]
  },
  {
   "cell_type": "code",
   "execution_count": 78,
   "id": "b61542a9",
   "metadata": {},
   "outputs": [
    {
     "name": "stdout",
     "output_type": "stream",
     "text": [
      "tensor(98.1100)\n"
     ]
    }
   ],
   "source": [
    "for t in test_correct_mod7:\n",
    "    tst_accu_mod7=t/100\n",
    "    \n",
    "print(tst_accu_mod7)"
   ]
  },
  {
   "cell_type": "code",
   "execution_count": null,
   "id": "a6f92d2e",
   "metadata": {},
   "outputs": [],
   "source": []
  },
  {
   "cell_type": "code",
   "execution_count": null,
   "id": "57a1102b",
   "metadata": {},
   "outputs": [],
   "source": []
  },
  {
   "cell_type": "code",
   "execution_count": 79,
   "id": "18bdfa21",
   "metadata": {},
   "outputs": [],
   "source": [
    "#######################################----------Model-8------------#####################################################################"
   ]
  },
  {
   "cell_type": "code",
   "execution_count": 80,
   "id": "8cd58f55",
   "metadata": {},
   "outputs": [],
   "source": [
    "#Model8 with 396210 parameters\n",
    "class Model8(nn.Module):\n",
    "    def __init__(self, in_features=784, h1=400, h2=200, out_features=10):\n",
    "        super().__init__()\n",
    "        self.fc1 = nn.Linear(in_features,h1)    \n",
    "        self.fc2 = nn.Linear(h1, h2)\n",
    "        self.out = nn.Linear(h2, out_features)\n",
    "        \n",
    "        \n",
    "    def forward(self, x):\n",
    "        x = F.relu(self.fc1(x))\n",
    "        x = F.relu(self.fc2(x))\n",
    "        x = self.out(x)\n",
    "        return x"
   ]
  },
  {
   "cell_type": "code",
   "execution_count": 81,
   "id": "53c646fa",
   "metadata": {},
   "outputs": [],
   "source": [
    "model8=Model8()"
   ]
  },
  {
   "cell_type": "code",
   "execution_count": 82,
   "id": "e097e2d3",
   "metadata": {},
   "outputs": [
    {
     "data": {
      "text/plain": [
       "Model8(\n",
       "  (fc1): Linear(in_features=784, out_features=400, bias=True)\n",
       "  (fc2): Linear(in_features=400, out_features=200, bias=True)\n",
       "  (out): Linear(in_features=200, out_features=10, bias=True)\n",
       ")"
      ]
     },
     "execution_count": 82,
     "metadata": {},
     "output_type": "execute_result"
    }
   ],
   "source": [
    "model8"
   ]
  },
  {
   "cell_type": "code",
   "execution_count": 83,
   "id": "1563afa4",
   "metadata": {},
   "outputs": [
    {
     "name": "stdout",
     "output_type": "stream",
     "text": [
      "396210\n"
     ]
    }
   ],
   "source": [
    "model8params=CalcParams(model8)\n",
    "print(model8params)"
   ]
  },
  {
   "cell_type": "code",
   "execution_count": 84,
   "id": "fb504935",
   "metadata": {},
   "outputs": [],
   "source": [
    "criterion8 = nn.CrossEntropyLoss()\n",
    "optimizer8 = torch.optim.Adam(model8.parameters(), lr=0.001)"
   ]
  },
  {
   "cell_type": "code",
   "execution_count": 85,
   "id": "784864ae",
   "metadata": {},
   "outputs": [],
   "source": [
    "epochs = 69\n",
    "train_correct_mod8 = []\n",
    "test_correct_mod8 = []\n",
    "\n",
    "for i in range(epochs):\n",
    "    train_corr = 0\n",
    "    test_corr = 0\n",
    "    \n",
    "    # Run the training batches\n",
    "    for b, (X_train, y_train) in enumerate(train_loader):\n",
    "       \n",
    "        y_pred = model8(X_train.view(500, -1))  \n",
    "        loss = criterion8(y_pred, y_train)\n",
    "\n",
    "        # Tally the number of correct predictions\n",
    "        predicted = torch.max(y_pred.data, 1)[1]\n",
    "        batch_corr = (predicted == y_train).sum()\n",
    "        train_corr += batch_corr\n",
    "        \n",
    "        # Update parameters\n",
    "        optimizer8.zero_grad()\n",
    "        loss.backward()\n",
    "        optimizer8.step()\n",
    "        \n",
    "    # Update train loss & accuracy for the epoch\n",
    "    train_losses_mod8=loss\n",
    "    train_correct_mod8.append(train_corr)\n",
    "        \n",
    "    # Run the testing batches\n",
    "    with torch.no_grad():\n",
    "        for b, (X_test, y_test) in enumerate(test_loader):\n",
    "\n",
    "            # Apply the model\n",
    "            y_val = model8(X_test.view(100, -1)) \n",
    "\n",
    "            # Tally the number of correct predictions\n",
    "            predicted = torch.max(y_val.data, 1)[1] \n",
    "            test_corr += (predicted == y_test).sum()\n",
    "    \n",
    "    # Update test loss & accuracy for the epoch\n",
    "    loss = criterion8(y_val, y_test)\n",
    "    test_losses_mod8=loss\n",
    "    test_correct_mod8.append(test_corr)\n",
    "        "
   ]
  },
  {
   "cell_type": "code",
   "execution_count": 86,
   "id": "7438a376",
   "metadata": {},
   "outputs": [],
   "source": [
    "train_losses_mod8 = train_losses_mod8.detach().numpy()"
   ]
  },
  {
   "cell_type": "code",
   "execution_count": 87,
   "id": "2d000f79",
   "metadata": {},
   "outputs": [
    {
     "name": "stdout",
     "output_type": "stream",
     "text": [
      "tensor(100.)\n"
     ]
    }
   ],
   "source": [
    "for t in train_correct_mod8:\n",
    "    trn_accu_mod8=t/600\n",
    "    \n",
    "print(trn_accu_mod8)"
   ]
  },
  {
   "cell_type": "code",
   "execution_count": 88,
   "id": "04a3e444",
   "metadata": {},
   "outputs": [
    {
     "name": "stdout",
     "output_type": "stream",
     "text": [
      "tensor(98.2200)\n"
     ]
    }
   ],
   "source": [
    "for t in test_correct_mod8:\n",
    "    tst_accu_mod8=t/100\n",
    "    \n",
    "print(tst_accu_mod8)"
   ]
  },
  {
   "cell_type": "code",
   "execution_count": null,
   "id": "c7eb642c",
   "metadata": {},
   "outputs": [],
   "source": []
  },
  {
   "cell_type": "code",
   "execution_count": null,
   "id": "11b606aa",
   "metadata": {},
   "outputs": [],
   "source": []
  },
  {
   "cell_type": "code",
   "execution_count": 89,
   "id": "f3608880",
   "metadata": {},
   "outputs": [],
   "source": [
    "#######################################----------Model-9------------#####################################################################"
   ]
  },
  {
   "cell_type": "code",
   "execution_count": 90,
   "id": "8a24b010",
   "metadata": {},
   "outputs": [],
   "source": [
    "#Model9 with 654310 parameters\n",
    "class Model9(nn.Module):\n",
    "    def __init__(self, in_features=784, h1=600, h2=300, out_features=10):\n",
    "        super().__init__()\n",
    "        self.fc1 = nn.Linear(in_features,h1)    \n",
    "        self.fc2 = nn.Linear(h1, h2)\n",
    "        self.out = nn.Linear(h2, out_features)\n",
    "        \n",
    "        \n",
    "    def forward(self, x):\n",
    "        x = F.relu(self.fc1(x))\n",
    "        x = F.relu(self.fc2(x))\n",
    "        x = self.out(x)\n",
    "        return x"
   ]
  },
  {
   "cell_type": "code",
   "execution_count": 91,
   "id": "05fff889",
   "metadata": {},
   "outputs": [],
   "source": [
    "model9=Model9()"
   ]
  },
  {
   "cell_type": "code",
   "execution_count": 92,
   "id": "63911964",
   "metadata": {},
   "outputs": [
    {
     "data": {
      "text/plain": [
       "Model9(\n",
       "  (fc1): Linear(in_features=784, out_features=600, bias=True)\n",
       "  (fc2): Linear(in_features=600, out_features=300, bias=True)\n",
       "  (out): Linear(in_features=300, out_features=10, bias=True)\n",
       ")"
      ]
     },
     "execution_count": 92,
     "metadata": {},
     "output_type": "execute_result"
    }
   ],
   "source": [
    "model9"
   ]
  },
  {
   "cell_type": "code",
   "execution_count": 93,
   "id": "25a597a4",
   "metadata": {},
   "outputs": [
    {
     "name": "stdout",
     "output_type": "stream",
     "text": [
      "654310\n"
     ]
    }
   ],
   "source": [
    "model9params=CalcParams(model9)\n",
    "print(model9params)"
   ]
  },
  {
   "cell_type": "code",
   "execution_count": 94,
   "id": "2580e58d",
   "metadata": {},
   "outputs": [],
   "source": [
    "criterion9 = nn.CrossEntropyLoss()\n",
    "optimizer9 = torch.optim.Adam(model9.parameters(), lr=0.001)"
   ]
  },
  {
   "cell_type": "code",
   "execution_count": 95,
   "id": "514016de",
   "metadata": {},
   "outputs": [],
   "source": [
    "epochs = 69\n",
    "train_correct_mod9 = []\n",
    "test_correct_mod9 = []\n",
    "\n",
    "for i in range(epochs):\n",
    "    train_corr = 0\n",
    "    test_corr = 0\n",
    "    # Run the training batches\n",
    "    for b, (X_train, y_train) in enumerate(train_loader):\n",
    "     \n",
    "        y_pred = model9(X_train.view(500, -1))  \n",
    "        loss = criterion9(y_pred, y_train)\n",
    "\n",
    "        # Tally the number of correct predictions\n",
    "        predicted = torch.max(y_pred.data, 1)[1]\n",
    "        batch_corr = (predicted == y_train).sum()\n",
    "        train_corr += batch_corr\n",
    "        \n",
    "        # Update parameters\n",
    "        optimizer9.zero_grad()\n",
    "        loss.backward()\n",
    "        optimizer9.step()\n",
    "        \n",
    "    # Update train loss & accuracy for the epoch\n",
    "    train_losses_mod9=loss\n",
    "    train_correct_mod9.append(train_corr)\n",
    "        \n",
    "    # Run the testing batches\n",
    "    with torch.no_grad():\n",
    "        for b, (X_test, y_test) in enumerate(test_loader):\n",
    "\n",
    "            # Apply the model\n",
    "            y_val = model9(X_test.view(100, -1)) \n",
    "\n",
    "            # Tally the number of correct predictions\n",
    "            predicted = torch.max(y_val.data, 1)[1] \n",
    "            test_corr += (predicted == y_test).sum()\n",
    "    \n",
    "    # Update test loss & accuracy for the epoch\n",
    "    loss = criterion9(y_val, y_test)\n",
    "    test_losses_mod9=loss\n",
    "    test_correct_mod9.append(test_corr)\n",
    "        "
   ]
  },
  {
   "cell_type": "code",
   "execution_count": 96,
   "id": "a01dae90",
   "metadata": {},
   "outputs": [],
   "source": [
    "train_losses_mod9 = train_losses_mod9.detach().numpy()"
   ]
  },
  {
   "cell_type": "code",
   "execution_count": 97,
   "id": "2b2c0247",
   "metadata": {},
   "outputs": [
    {
     "name": "stdout",
     "output_type": "stream",
     "text": [
      "tensor(100.)\n"
     ]
    }
   ],
   "source": [
    "for t in train_correct_mod9:\n",
    "    trn_accu_mod9=t/600\n",
    "    \n",
    "print(trn_accu_mod9)"
   ]
  },
  {
   "cell_type": "code",
   "execution_count": 98,
   "id": "5dd85de8",
   "metadata": {},
   "outputs": [
    {
     "name": "stdout",
     "output_type": "stream",
     "text": [
      "tensor(98.2500)\n"
     ]
    }
   ],
   "source": [
    "for t in test_correct_mod9:\n",
    "    tst_accu_mod9=t/100\n",
    "    \n",
    "print(tst_accu_mod9)"
   ]
  },
  {
   "cell_type": "code",
   "execution_count": null,
   "id": "305564a8",
   "metadata": {},
   "outputs": [],
   "source": []
  },
  {
   "cell_type": "code",
   "execution_count": null,
   "id": "88744efe",
   "metadata": {},
   "outputs": [],
   "source": []
  },
  {
   "cell_type": "code",
   "execution_count": 99,
   "id": "efedd78d",
   "metadata": {},
   "outputs": [],
   "source": [
    "#######################################----------Model-10------------#####################################################################"
   ]
  },
  {
   "cell_type": "code",
   "execution_count": 100,
   "id": "8e765abb",
   "metadata": {},
   "outputs": [],
   "source": [
    "#Model10 with 952410 parameters\n",
    "class Model10(nn.Module):\n",
    "    def __init__(self, in_features=784, h1=800, h2=400, out_features=10):\n",
    "        super().__init__()\n",
    "        self.fc1 = nn.Linear(in_features,h1)    \n",
    "        self.fc2 = nn.Linear(h1, h2)\n",
    "        self.out = nn.Linear(h2, out_features)\n",
    "        \n",
    "        \n",
    "    def forward(self, x):\n",
    "        x = F.relu(self.fc1(x))\n",
    "        x = F.relu(self.fc2(x))\n",
    "        x = self.out(x)\n",
    "        return x"
   ]
  },
  {
   "cell_type": "code",
   "execution_count": 101,
   "id": "648c3140",
   "metadata": {},
   "outputs": [],
   "source": [
    "model10=Model10()"
   ]
  },
  {
   "cell_type": "code",
   "execution_count": 102,
   "id": "ae49421c",
   "metadata": {},
   "outputs": [
    {
     "data": {
      "text/plain": [
       "Model10(\n",
       "  (fc1): Linear(in_features=784, out_features=800, bias=True)\n",
       "  (fc2): Linear(in_features=800, out_features=400, bias=True)\n",
       "  (out): Linear(in_features=400, out_features=10, bias=True)\n",
       ")"
      ]
     },
     "execution_count": 102,
     "metadata": {},
     "output_type": "execute_result"
    }
   ],
   "source": [
    "model10"
   ]
  },
  {
   "cell_type": "code",
   "execution_count": 103,
   "id": "9abc5e68",
   "metadata": {},
   "outputs": [
    {
     "name": "stdout",
     "output_type": "stream",
     "text": [
      "952410\n"
     ]
    }
   ],
   "source": [
    "model10params=CalcParams(model10)\n",
    "print(model10params)"
   ]
  },
  {
   "cell_type": "code",
   "execution_count": 104,
   "id": "0c7ae8e9",
   "metadata": {},
   "outputs": [],
   "source": [
    "criterion10 = nn.CrossEntropyLoss()\n",
    "optimizer10 = torch.optim.Adam(model10.parameters(), lr=0.001)"
   ]
  },
  {
   "cell_type": "code",
   "execution_count": 105,
   "id": "f5286194",
   "metadata": {},
   "outputs": [],
   "source": [
    "epochs = 69\n",
    "train_correct_mod10 = []\n",
    "test_correct_mod10 = []\n",
    "\n",
    "for i in range(epochs):\n",
    "    train_corr = 0\n",
    "    test_corr = 0\n",
    "    # Run the training batches\n",
    "    for b, (X_train, y_train) in enumerate(train_loader):\n",
    "      \n",
    "        y_pred = model10(X_train.view(500, -1))  \n",
    "        loss = criterion10(y_pred, y_train)\n",
    "\n",
    "        # Tally the number of correct predictions\n",
    "        predicted = torch.max(y_pred.data, 1)[1]\n",
    "        batch_corr = (predicted == y_train).sum()\n",
    "        train_corr += batch_corr\n",
    "        \n",
    "        # Update parameters\n",
    "        optimizer10.zero_grad()\n",
    "        loss.backward()\n",
    "        optimizer10.step()\n",
    "        \n",
    "    # Update train loss & accuracy for the epoch\n",
    "    train_losses_mod10=loss\n",
    "    train_correct_mod10.append(train_corr)\n",
    "        \n",
    "    # Run the testing batches\n",
    "    with torch.no_grad():\n",
    "        for b, (X_test, y_test) in enumerate(test_loader):\n",
    "\n",
    "            # Apply the model\n",
    "            y_val = model10(X_test.view(100, -1)) \n",
    "\n",
    "            # Tally the number of correct predictions\n",
    "            predicted = torch.max(y_val.data, 1)[1] \n",
    "            test_corr += (predicted == y_test).sum()\n",
    "    \n",
    "    # Update test loss & accuracy for the epoch\n",
    "    loss = criterion10(y_val, y_test)\n",
    "    test_losses_mod10=loss\n",
    "    test_correct_mod10.append(test_corr)\n",
    "        "
   ]
  },
  {
   "cell_type": "code",
   "execution_count": 106,
   "id": "556bf4a3",
   "metadata": {},
   "outputs": [],
   "source": [
    "train_losses_mod10 = train_losses_mod10.detach().numpy()"
   ]
  },
  {
   "cell_type": "code",
   "execution_count": 107,
   "id": "cf41f249",
   "metadata": {},
   "outputs": [
    {
     "name": "stdout",
     "output_type": "stream",
     "text": [
      "tensor(100.)\n"
     ]
    }
   ],
   "source": [
    "for t in train_correct_mod10:\n",
    "    trn_accu_mod10=t/600\n",
    "    \n",
    "print(trn_accu_mod10)"
   ]
  },
  {
   "cell_type": "code",
   "execution_count": 108,
   "id": "2f2db669",
   "metadata": {},
   "outputs": [
    {
     "name": "stdout",
     "output_type": "stream",
     "text": [
      "tensor(98.4500)\n"
     ]
    }
   ],
   "source": [
    "for t in test_correct_mod10:\n",
    "    tst_accu_mod10=t/100\n",
    "    \n",
    "print(tst_accu_mod10)"
   ]
  },
  {
   "cell_type": "code",
   "execution_count": null,
   "id": "6246e15f",
   "metadata": {},
   "outputs": [],
   "source": []
  },
  {
   "cell_type": "code",
   "execution_count": null,
   "id": "d81ffef9",
   "metadata": {},
   "outputs": [],
   "source": []
  },
  {
   "cell_type": "code",
   "execution_count": 109,
   "id": "d4297045",
   "metadata": {},
   "outputs": [
    {
     "data": {
      "image/png": "[encoded data removed]",
      "text/plain": [
       "<Figure size 432x288 with 1 Axes>"
      ]
     },
     "metadata": {
      "needs_background": "light"
     },
     "output_type": "display_data"
    }
   ],
   "source": [
    "#Training Loss\n",
    "plt.scatter(model1params, train_losses_mod1,c='b',label='Train')\n",
    "plt.scatter(model2params, train_losses_mod2,c='b')\n",
    "plt.scatter(model3params, train_losses_mod3,c='b')\n",
    "plt.scatter(model4params, train_losses_mod4,c='b')\n",
    "plt.scatter(model5params, train_losses_mod5,c='b')\n",
    "plt.scatter(model6params, train_losses_mod6,c='b')\n",
    "plt.scatter(model7params, train_losses_mod7,c='b')\n",
    "plt.scatter(model8params, train_losses_mod8,c='b')\n",
    "plt.scatter(model9params, train_losses_mod9,c='b')\n",
    "plt.scatter(model10params, train_losses_mod10,c='b')\n",
    "\n",
    "#Testing Loss\n",
    "\n",
    "plt.scatter(model1params, test_losses_mod1,c='r',label='Test')\n",
    "plt.scatter(model2params, test_losses_mod2,c='r')\n",
    "plt.scatter(model3params, test_losses_mod3,c='r')\n",
    "plt.scatter(model4params, test_losses_mod4,c='r')\n",
    "plt.scatter(model5params, test_losses_mod5,c='r')\n",
    "plt.scatter(model6params, test_losses_mod6,c='r')\n",
    "plt.scatter(model7params, test_losses_mod7,c='r')\n",
    "plt.scatter(model8params, test_losses_mod8,c='r')\n",
    "plt.scatter(model9params, test_losses_mod9,c='r')\n",
    "plt.scatter(model10params, test_losses_mod10,c='r')\n",
    "\n",
    "plt.title(\"Loss of Models\")\n",
    "plt.xlabel(\"Number of Parameters\")\n",
    "plt.ylabel(\"Loss\")\n",
    "plt.legend(loc=\"upper right\")\n",
    "plt.show()"
   ]
  },
  {
   "cell_type": "code",
   "execution_count": null,
   "id": "f3ffc706",
   "metadata": {},
   "outputs": [],
   "source": []
  },
  {
   "cell_type": "code",
   "execution_count": 110,
   "id": "7ab50e77",
   "metadata": {},
   "outputs": [
    {
     "data": {
      "image/png": "[encoded data removed]",
      "text/plain": [
       "<Figure size 432x288 with 1 Axes>"
      ]
     },
     "metadata": {
      "needs_background": "light"
     },
     "output_type": "display_data"
    }
   ],
   "source": [
    "#Training Accuracy\n",
    "plt.scatter(model1params, trn_accu_mod1,c='b',label='Train')\n",
    "plt.scatter(model2params, trn_accu_mod2,c='b')\n",
    "plt.scatter(model3params, trn_accu_mod3,c='b')\n",
    "plt.scatter(model4params, trn_accu_mod4,c='b')\n",
    "plt.scatter(model5params, trn_accu_mod5,c='b')\n",
    "plt.scatter(model6params, trn_accu_mod6,c='b')\n",
    "plt.scatter(model7params, trn_accu_mod7,c='b')\n",
    "plt.scatter(model8params, trn_accu_mod8,c='b')\n",
    "plt.scatter(model9params, trn_accu_mod9,c='b')\n",
    "plt.scatter(model10params, trn_accu_mod10,c='b')\n",
    "\n",
    "#Testing Accuracy\n",
    "\n",
    "plt.scatter(model1params, tst_accu_mod1,c='r',label='Test')\n",
    "plt.scatter(model2params, tst_accu_mod2,c='r')\n",
    "plt.scatter(model3params, tst_accu_mod3,c='r')\n",
    "plt.scatter(model4params, tst_accu_mod4,c='r')\n",
    "plt.scatter(model5params, tst_accu_mod5,c='r')\n",
    "plt.scatter(model6params, tst_accu_mod6,c='r')\n",
    "plt.scatter(model7params, tst_accu_mod7,c='r')\n",
    "plt.scatter(model8params, tst_accu_mod8,c='r')\n",
    "plt.scatter(model9params, tst_accu_mod9,c='r')\n",
    "plt.scatter(model10params, tst_accu_mod10,c='r')\n",
    "\n",
    "plt.title(\"Models Accuracy\")\n",
    "plt.xlabel(\"Number of Parameters\")\n",
    "plt.ylabel(\"Accuracy\")\n",
    "plt.legend(loc=\"upper right\")\n",
    "plt.show()"
   ]
  },
  {
   "cell_type": "code",
   "execution_count": null,
   "id": "e6cf4b2a",
   "metadata": {},
   "outputs": [],
   "source": []
  },
  {
   "cell_type": "code",
   "execution_count": null,
   "id": "a9cdacb3",
   "metadata": {},
   "outputs": [],
   "source": []
  },
  {
   "cell_type": "code",
   "execution_count": null,
   "id": "b8689509",
   "metadata": {},
   "outputs": [],
   "source": []
  }
 ],
 "metadata": {
  "kernelspec": {
   "display_name": "Python 3 (ipykernel)",
   "language": "python",
   "name": "python3"
  },
  "language_info": {
   "codemirror_mode": {
    "name": "ipython",
    "version": 3
   },
   "file_extension": ".py",
   "mimetype": "text/x-python",
   "name": "python",
   "nbconvert_exporter": "python",
   "pygments_lexer": "ipython3",
   "version": "3.9.7"
  }
 },
 "nbformat": 4,
 "nbformat_minor": 5
}
